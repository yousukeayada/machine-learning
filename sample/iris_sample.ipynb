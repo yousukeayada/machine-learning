{
 "cells": [
  {
   "cell_type": "markdown",
   "metadata": {},
   "source": [
    "# アヤメの分類サンプル（SVM，ロジスティック回帰）"
   ]
  },
  {
   "cell_type": "code",
   "execution_count": 1,
   "metadata": {},
   "outputs": [],
   "source": [
    "from sklearn import datasets"
   ]
  },
  {
   "cell_type": "code",
   "execution_count": 2,
   "metadata": {},
   "outputs": [],
   "source": [
    "iris = datasets.load_iris()"
   ]
  },
  {
   "cell_type": "code",
   "execution_count": 4,
   "metadata": {},
   "outputs": [
    {
     "output_type": "execute_result",
     "data": {
      "text/plain": "['DESCR', 'data', 'feature_names', 'filename', 'target', 'target_names']"
     },
     "metadata": {},
     "execution_count": 4
    }
   ],
   "source": [
    "dir(iris)"
   ]
  },
  {
   "cell_type": "code",
   "execution_count": 5,
   "metadata": {},
   "outputs": [
    {
     "output_type": "execute_result",
     "data": {
      "text/plain": "[(150, 4), (150,)]"
     },
     "metadata": {},
     "execution_count": 5
    }
   ],
   "source": [
    "[d.shape for d in [iris.data, iris.target]]"
   ]
  },
  {
   "cell_type": "code",
   "execution_count": 8,
   "metadata": {},
   "outputs": [
    {
     "output_type": "execute_result",
     "data": {
      "text/plain": "[['sepal length (cm)',\n  'sepal width (cm)',\n  'petal length (cm)',\n  'petal width (cm)'],\n array(['setosa', 'versicolor', 'virginica'], dtype='<U10')]"
     },
     "metadata": {},
     "execution_count": 8
    }
   ],
   "source": [
    "[iris.feature_names, iris.target_names]"
   ]
  },
  {
   "cell_type": "code",
   "execution_count": 9,
   "metadata": {},
   "outputs": [
    {
     "output_type": "execute_result",
     "data": {
      "text/plain": "array([5.1, 3.5, 1.4, 0.2])"
     },
     "metadata": {},
     "execution_count": 9
    }
   ],
   "source": [
    "iris.data[0]"
   ]
  },
  {
   "cell_type": "code",
   "execution_count": 10,
   "metadata": {},
   "outputs": [],
   "source": [
    "import matplotlib.pyplot as plt"
   ]
  },
  {
   "cell_type": "code",
   "execution_count": 12,
   "metadata": {},
   "outputs": [
    {
     "output_type": "display_data",
     "data": {
      "text/plain": "<Figure size 432x288 with 1 Axes>",
      "image/svg+xml": "<?xml version=\"1.0\" encoding=\"utf-8\" standalone=\"no\"?>\n<!DOCTYPE svg PUBLIC \"-//W3C//DTD SVG 1.1//EN\"\n  \"http://www.w3.org/Graphics/SVG/1.1/DTD/svg11.dtd\">\n<!-- Created with matplotlib (https://matplotlib.org/) -->\n<svg height=\"249.399937pt\" version=\"1.1\" viewBox=\"0 0 372.103125 249.399937\" width=\"372.103125pt\" xmlns=\"http://www.w3.org/2000/svg\" xmlns:xlink=\"http://www.w3.org/1999/xlink\">\n <defs>\n  <style type=\"text/css\">\n*{stroke-linecap:butt;stroke-linejoin:round;}\n  </style>\n </defs>\n <g id=\"figure_1\">\n  <g id=\"patch_1\">\n   <path d=\"M 0 249.399937 \nL 372.103125 249.399937 \nL 372.103125 0 \nL 0 0 \nz\n\" style=\"fill:none;\"/>\n  </g>\n  <g id=\"axes_1\">\n   <g id=\"patch_2\">\n    <path d=\"M 30.103125 225.521812 \nL 364.903125 225.521812 \nL 364.903125 8.081812 \nL 30.103125 8.081812 \nz\n\" style=\"fill:#ffffff;\"/>\n   </g>\n   <g id=\"PathCollection_1\">\n    <defs>\n     <path d=\"M 0 3 \nC 0.795609 3 1.55874 2.683901 2.12132 2.12132 \nC 2.683901 1.55874 3 0.795609 3 0 \nC 3 -0.795609 2.683901 -1.55874 2.12132 -2.12132 \nC 1.55874 -2.683901 0.795609 -3 0 -3 \nC -0.795609 -3 -1.55874 -2.683901 -2.12132 -2.12132 \nC -2.683901 -1.55874 -3 -0.795609 -3 0 \nC -3 0.795609 -2.683901 1.55874 -2.12132 2.12132 \nC -1.55874 2.683901 -0.795609 3 0 3 \nz\n\" id=\"m12a72ecb06\" style=\"stroke:#ff0000;\"/>\n    </defs>\n    <g clip-path=\"url(#p13500d0151)\">\n     <use style=\"fill:#ff0000;stroke:#ff0000;\" x=\"113.041631\" xlink:href=\"#m12a72ecb06\" y=\"91.811047\"/>\n     <use style=\"fill:#ff0000;stroke:#ff0000;\" x=\"96.299078\" xlink:href=\"#m12a72ecb06\" y=\"132.216962\"/>\n     <use style=\"fill:#ff0000;stroke:#ff0000;\" x=\"79.556526\" xlink:href=\"#m12a72ecb06\" y=\"116.054596\"/>\n     <use style=\"fill:#ff0000;stroke:#ff0000;\" x=\"71.18525\" xlink:href=\"#m12a72ecb06\" y=\"124.135779\"/>\n     <use style=\"fill:#ff0000;stroke:#ff0000;\" x=\"104.670355\" xlink:href=\"#m12a72ecb06\" y=\"83.729865\"/>\n     <use style=\"fill:#ff0000;stroke:#ff0000;\" x=\"138.155459\" xlink:href=\"#m12a72ecb06\" y=\"59.486316\"/>\n     <use style=\"fill:#ff0000;stroke:#ff0000;\" x=\"71.18525\" xlink:href=\"#m12a72ecb06\" y=\"99.89223\"/>\n     <use style=\"fill:#ff0000;stroke:#ff0000;\" x=\"104.670355\" xlink:href=\"#m12a72ecb06\" y=\"99.89223\"/>\n     <use style=\"fill:#ff0000;stroke:#ff0000;\" x=\"54.442697\" xlink:href=\"#m12a72ecb06\" y=\"140.298145\"/>\n     <use style=\"fill:#ff0000;stroke:#ff0000;\" x=\"96.299078\" xlink:href=\"#m12a72ecb06\" y=\"124.135779\"/>\n     <use style=\"fill:#ff0000;stroke:#ff0000;\" x=\"138.155459\" xlink:href=\"#m12a72ecb06\" y=\"75.648682\"/>\n     <use style=\"fill:#ff0000;stroke:#ff0000;\" x=\"87.927802\" xlink:href=\"#m12a72ecb06\" y=\"99.89223\"/>\n     <use style=\"fill:#ff0000;stroke:#ff0000;\" x=\"87.927802\" xlink:href=\"#m12a72ecb06\" y=\"132.216962\"/>\n     <use style=\"fill:#ff0000;stroke:#ff0000;\" x=\"46.071421\" xlink:href=\"#m12a72ecb06\" y=\"132.216962\"/>\n     <use style=\"fill:#ff0000;stroke:#ff0000;\" x=\"171.640564\" xlink:href=\"#m12a72ecb06\" y=\"51.405133\"/>\n     <use style=\"fill:#ff0000;stroke:#ff0000;\" x=\"163.269288\" xlink:href=\"#m12a72ecb06\" y=\"19.080402\"/>\n     <use style=\"fill:#ff0000;stroke:#ff0000;\" x=\"138.155459\" xlink:href=\"#m12a72ecb06\" y=\"59.486316\"/>\n     <use style=\"fill:#ff0000;stroke:#ff0000;\" x=\"113.041631\" xlink:href=\"#m12a72ecb06\" y=\"91.811047\"/>\n     <use style=\"fill:#ff0000;stroke:#ff0000;\" x=\"163.269288\" xlink:href=\"#m12a72ecb06\" y=\"67.567499\"/>\n     <use style=\"fill:#ff0000;stroke:#ff0000;\" x=\"113.041631\" xlink:href=\"#m12a72ecb06\" y=\"67.567499\"/>\n     <use style=\"fill:#ff0000;stroke:#ff0000;\" x=\"138.155459\" xlink:href=\"#m12a72ecb06\" y=\"99.89223\"/>\n     <use style=\"fill:#ff0000;stroke:#ff0000;\" x=\"113.041631\" xlink:href=\"#m12a72ecb06\" y=\"75.648682\"/>\n     <use style=\"fill:#ff0000;stroke:#ff0000;\" x=\"71.18525\" xlink:href=\"#m12a72ecb06\" y=\"83.729865\"/>\n     <use style=\"fill:#ff0000;stroke:#ff0000;\" x=\"113.041631\" xlink:href=\"#m12a72ecb06\" y=\"107.973413\"/>\n     <use style=\"fill:#ff0000;stroke:#ff0000;\" x=\"87.927802\" xlink:href=\"#m12a72ecb06\" y=\"99.89223\"/>\n     <use style=\"fill:#ff0000;stroke:#ff0000;\" x=\"104.670355\" xlink:href=\"#m12a72ecb06\" y=\"132.216962\"/>\n     <use style=\"fill:#ff0000;stroke:#ff0000;\" x=\"104.670355\" xlink:href=\"#m12a72ecb06\" y=\"99.89223\"/>\n     <use style=\"fill:#ff0000;stroke:#ff0000;\" x=\"121.412907\" xlink:href=\"#m12a72ecb06\" y=\"91.811047\"/>\n     <use style=\"fill:#ff0000;stroke:#ff0000;\" x=\"121.412907\" xlink:href=\"#m12a72ecb06\" y=\"99.89223\"/>\n     <use style=\"fill:#ff0000;stroke:#ff0000;\" x=\"79.556526\" xlink:href=\"#m12a72ecb06\" y=\"116.054596\"/>\n     <use style=\"fill:#ff0000;stroke:#ff0000;\" x=\"87.927802\" xlink:href=\"#m12a72ecb06\" y=\"124.135779\"/>\n     <use style=\"fill:#ff0000;stroke:#ff0000;\" x=\"138.155459\" xlink:href=\"#m12a72ecb06\" y=\"99.89223\"/>\n     <use style=\"fill:#ff0000;stroke:#ff0000;\" x=\"121.412907\" xlink:href=\"#m12a72ecb06\" y=\"43.32395\"/>\n     <use style=\"fill:#ff0000;stroke:#ff0000;\" x=\"146.526736\" xlink:href=\"#m12a72ecb06\" y=\"35.242767\"/>\n     <use style=\"fill:#ff0000;stroke:#ff0000;\" x=\"96.299078\" xlink:href=\"#m12a72ecb06\" y=\"124.135779\"/>\n     <use style=\"fill:#ff0000;stroke:#ff0000;\" x=\"104.670355\" xlink:href=\"#m12a72ecb06\" y=\"116.054596\"/>\n     <use style=\"fill:#ff0000;stroke:#ff0000;\" x=\"146.526736\" xlink:href=\"#m12a72ecb06\" y=\"91.811047\"/>\n     <use style=\"fill:#ff0000;stroke:#ff0000;\" x=\"96.299078\" xlink:href=\"#m12a72ecb06\" y=\"83.729865\"/>\n     <use style=\"fill:#ff0000;stroke:#ff0000;\" x=\"54.442697\" xlink:href=\"#m12a72ecb06\" y=\"132.216962\"/>\n     <use style=\"fill:#ff0000;stroke:#ff0000;\" x=\"113.041631\" xlink:href=\"#m12a72ecb06\" y=\"99.89223\"/>\n     <use style=\"fill:#ff0000;stroke:#ff0000;\" x=\"104.670355\" xlink:href=\"#m12a72ecb06\" y=\"91.811047\"/>\n     <use style=\"fill:#ff0000;stroke:#ff0000;\" x=\"62.813974\" xlink:href=\"#m12a72ecb06\" y=\"188.785242\"/>\n     <use style=\"fill:#ff0000;stroke:#ff0000;\" x=\"54.442697\" xlink:href=\"#m12a72ecb06\" y=\"116.054596\"/>\n     <use style=\"fill:#ff0000;stroke:#ff0000;\" x=\"104.670355\" xlink:href=\"#m12a72ecb06\" y=\"91.811047\"/>\n     <use style=\"fill:#ff0000;stroke:#ff0000;\" x=\"113.041631\" xlink:href=\"#m12a72ecb06\" y=\"67.567499\"/>\n     <use style=\"fill:#ff0000;stroke:#ff0000;\" x=\"87.927802\" xlink:href=\"#m12a72ecb06\" y=\"132.216962\"/>\n     <use style=\"fill:#ff0000;stroke:#ff0000;\" x=\"113.041631\" xlink:href=\"#m12a72ecb06\" y=\"67.567499\"/>\n     <use style=\"fill:#ff0000;stroke:#ff0000;\" x=\"71.18525\" xlink:href=\"#m12a72ecb06\" y=\"116.054596\"/>\n     <use style=\"fill:#ff0000;stroke:#ff0000;\" x=\"129.784183\" xlink:href=\"#m12a72ecb06\" y=\"75.648682\"/>\n     <use style=\"fill:#ff0000;stroke:#ff0000;\" x=\"104.670355\" xlink:href=\"#m12a72ecb06\" y=\"107.973413\"/>\n    </g>\n   </g>\n   <g id=\"PathCollection_2\">\n    <defs>\n     <path d=\"M 0 3 \nC 0.795609 3 1.55874 2.683901 2.12132 2.12132 \nC 2.683901 1.55874 3 0.795609 3 0 \nC 3 -0.795609 2.683901 -1.55874 2.12132 -2.12132 \nC 1.55874 -2.683901 0.795609 -3 0 -3 \nC -0.795609 -3 -1.55874 -2.683901 -2.12132 -2.12132 \nC -2.683901 -1.55874 -3 -0.795609 -3 0 \nC -3 0.795609 -2.683901 1.55874 -2.12132 2.12132 \nC -1.55874 2.683901 -0.795609 3 0 3 \nz\n\" id=\"m2be1fe00dc\" style=\"stroke:#008000;\"/>\n    </defs>\n    <g clip-path=\"url(#p13500d0151)\">\n     <use style=\"fill:#008000;stroke:#008000;\" x=\"272.095879\" xlink:href=\"#m2be1fe00dc\" y=\"116.054596\"/>\n     <use style=\"fill:#008000;stroke:#008000;\" x=\"221.868222\" xlink:href=\"#m2be1fe00dc\" y=\"116.054596\"/>\n     <use style=\"fill:#008000;stroke:#008000;\" x=\"263.724603\" xlink:href=\"#m2be1fe00dc\" y=\"124.135779\"/>\n     <use style=\"fill:#008000;stroke:#008000;\" x=\"146.526736\" xlink:href=\"#m2be1fe00dc\" y=\"188.785242\"/>\n     <use style=\"fill:#008000;stroke:#008000;\" x=\"230.239498\" xlink:href=\"#m2be1fe00dc\" y=\"148.379328\"/>\n     <use style=\"fill:#008000;stroke:#008000;\" x=\"163.269288\" xlink:href=\"#m2be1fe00dc\" y=\"148.379328\"/>\n     <use style=\"fill:#008000;stroke:#008000;\" x=\"213.496945\" xlink:href=\"#m2be1fe00dc\" y=\"107.973413\"/>\n     <use style=\"fill:#008000;stroke:#008000;\" x=\"96.299078\" xlink:href=\"#m2be1fe00dc\" y=\"180.704059\"/>\n     <use style=\"fill:#008000;stroke:#008000;\" x=\"238.610774\" xlink:href=\"#m2be1fe00dc\" y=\"140.298145\"/>\n     <use style=\"fill:#008000;stroke:#008000;\" x=\"121.412907\" xlink:href=\"#m2be1fe00dc\" y=\"156.46051\"/>\n     <use style=\"fill:#008000;stroke:#008000;\" x=\"104.670355\" xlink:href=\"#m2be1fe00dc\" y=\"213.02879\"/>\n     <use style=\"fill:#008000;stroke:#008000;\" x=\"180.011841\" xlink:href=\"#m2be1fe00dc\" y=\"132.216962\"/>\n     <use style=\"fill:#008000;stroke:#008000;\" x=\"188.383117\" xlink:href=\"#m2be1fe00dc\" y=\"196.866425\"/>\n     <use style=\"fill:#008000;stroke:#008000;\" x=\"196.754393\" xlink:href=\"#m2be1fe00dc\" y=\"140.298145\"/>\n     <use style=\"fill:#008000;stroke:#008000;\" x=\"154.898012\" xlink:href=\"#m2be1fe00dc\" y=\"140.298145\"/>\n     <use style=\"fill:#008000;stroke:#008000;\" x=\"246.98205\" xlink:href=\"#m2be1fe00dc\" y=\"124.135779\"/>\n     <use style=\"fill:#008000;stroke:#008000;\" x=\"154.898012\" xlink:href=\"#m2be1fe00dc\" y=\"132.216962\"/>\n     <use style=\"fill:#008000;stroke:#008000;\" x=\"171.640564\" xlink:href=\"#m2be1fe00dc\" y=\"156.46051\"/>\n     <use style=\"fill:#008000;stroke:#008000;\" x=\"205.125669\" xlink:href=\"#m2be1fe00dc\" y=\"196.866425\"/>\n     <use style=\"fill:#008000;stroke:#008000;\" x=\"154.898012\" xlink:href=\"#m2be1fe00dc\" y=\"172.622876\"/>\n     <use style=\"fill:#008000;stroke:#008000;\" x=\"180.011841\" xlink:href=\"#m2be1fe00dc\" y=\"116.054596\"/>\n     <use style=\"fill:#008000;stroke:#008000;\" x=\"196.754393\" xlink:href=\"#m2be1fe00dc\" y=\"148.379328\"/>\n     <use style=\"fill:#008000;stroke:#008000;\" x=\"213.496945\" xlink:href=\"#m2be1fe00dc\" y=\"172.622876\"/>\n     <use style=\"fill:#008000;stroke:#008000;\" x=\"196.754393\" xlink:href=\"#m2be1fe00dc\" y=\"148.379328\"/>\n     <use style=\"fill:#008000;stroke:#008000;\" x=\"221.868222\" xlink:href=\"#m2be1fe00dc\" y=\"140.298145\"/>\n     <use style=\"fill:#008000;stroke:#008000;\" x=\"238.610774\" xlink:href=\"#m2be1fe00dc\" y=\"132.216962\"/>\n     <use style=\"fill:#008000;stroke:#008000;\" x=\"255.353326\" xlink:href=\"#m2be1fe00dc\" y=\"148.379328\"/>\n     <use style=\"fill:#008000;stroke:#008000;\" x=\"246.98205\" xlink:href=\"#m2be1fe00dc\" y=\"132.216962\"/>\n     <use style=\"fill:#008000;stroke:#008000;\" x=\"188.383117\" xlink:href=\"#m2be1fe00dc\" y=\"140.298145\"/>\n     <use style=\"fill:#008000;stroke:#008000;\" x=\"163.269288\" xlink:href=\"#m2be1fe00dc\" y=\"164.541693\"/>\n     <use style=\"fill:#008000;stroke:#008000;\" x=\"146.526736\" xlink:href=\"#m2be1fe00dc\" y=\"180.704059\"/>\n     <use style=\"fill:#008000;stroke:#008000;\" x=\"146.526736\" xlink:href=\"#m2be1fe00dc\" y=\"180.704059\"/>\n     <use style=\"fill:#008000;stroke:#008000;\" x=\"171.640564\" xlink:href=\"#m2be1fe00dc\" y=\"156.46051\"/>\n     <use style=\"fill:#008000;stroke:#008000;\" x=\"188.383117\" xlink:href=\"#m2be1fe00dc\" y=\"156.46051\"/>\n     <use style=\"fill:#008000;stroke:#008000;\" x=\"138.155459\" xlink:href=\"#m2be1fe00dc\" y=\"132.216962\"/>\n     <use style=\"fill:#008000;stroke:#008000;\" x=\"188.383117\" xlink:href=\"#m2be1fe00dc\" y=\"99.89223\"/>\n     <use style=\"fill:#008000;stroke:#008000;\" x=\"246.98205\" xlink:href=\"#m2be1fe00dc\" y=\"124.135779\"/>\n     <use style=\"fill:#008000;stroke:#008000;\" x=\"213.496945\" xlink:href=\"#m2be1fe00dc\" y=\"188.785242\"/>\n     <use style=\"fill:#008000;stroke:#008000;\" x=\"154.898012\" xlink:href=\"#m2be1fe00dc\" y=\"132.216962\"/>\n     <use style=\"fill:#008000;stroke:#008000;\" x=\"146.526736\" xlink:href=\"#m2be1fe00dc\" y=\"172.622876\"/>\n     <use style=\"fill:#008000;stroke:#008000;\" x=\"146.526736\" xlink:href=\"#m2be1fe00dc\" y=\"164.541693\"/>\n     <use style=\"fill:#008000;stroke:#008000;\" x=\"196.754393\" xlink:href=\"#m2be1fe00dc\" y=\"132.216962\"/>\n     <use style=\"fill:#008000;stroke:#008000;\" x=\"171.640564\" xlink:href=\"#m2be1fe00dc\" y=\"164.541693\"/>\n     <use style=\"fill:#008000;stroke:#008000;\" x=\"104.670355\" xlink:href=\"#m2be1fe00dc\" y=\"188.785242\"/>\n     <use style=\"fill:#008000;stroke:#008000;\" x=\"154.898012\" xlink:href=\"#m2be1fe00dc\" y=\"156.46051\"/>\n     <use style=\"fill:#008000;stroke:#008000;\" x=\"163.269288\" xlink:href=\"#m2be1fe00dc\" y=\"132.216962\"/>\n     <use style=\"fill:#008000;stroke:#008000;\" x=\"163.269288\" xlink:href=\"#m2be1fe00dc\" y=\"140.298145\"/>\n     <use style=\"fill:#008000;stroke:#008000;\" x=\"205.125669\" xlink:href=\"#m2be1fe00dc\" y=\"140.298145\"/>\n     <use style=\"fill:#008000;stroke:#008000;\" x=\"113.041631\" xlink:href=\"#m2be1fe00dc\" y=\"172.622876\"/>\n     <use style=\"fill:#008000;stroke:#008000;\" x=\"163.269288\" xlink:href=\"#m2be1fe00dc\" y=\"148.379328\"/>\n    </g>\n   </g>\n   <g id=\"PathCollection_3\">\n    <defs>\n     <path d=\"M 0 3 \nC 0.795609 3 1.55874 2.683901 2.12132 2.12132 \nC 2.683901 1.55874 3 0.795609 3 0 \nC 3 -0.795609 2.683901 -1.55874 2.12132 -2.12132 \nC 1.55874 -2.683901 0.795609 -3 0 -3 \nC -0.795609 -3 -1.55874 -2.683901 -2.12132 -2.12132 \nC -2.683901 -1.55874 -3 -0.795609 -3 0 \nC -3 0.795609 -2.683901 1.55874 -2.12132 2.12132 \nC -1.55874 2.683901 -0.795609 3 0 3 \nz\n\" id=\"m2752dcd1cd\" style=\"stroke:#0000ff;\"/>\n    </defs>\n    <g clip-path=\"url(#p13500d0151)\">\n     <use style=\"fill:#0000ff;stroke:#0000ff;\" x=\"213.496945\" xlink:href=\"#m2752dcd1cd\" y=\"107.973413\"/>\n     <use style=\"fill:#0000ff;stroke:#0000ff;\" x=\"171.640564\" xlink:href=\"#m2752dcd1cd\" y=\"156.46051\"/>\n     <use style=\"fill:#0000ff;stroke:#0000ff;\" x=\"280.467155\" xlink:href=\"#m2752dcd1cd\" y=\"132.216962\"/>\n     <use style=\"fill:#0000ff;stroke:#0000ff;\" x=\"213.496945\" xlink:href=\"#m2752dcd1cd\" y=\"140.298145\"/>\n     <use style=\"fill:#0000ff;stroke:#0000ff;\" x=\"230.239498\" xlink:href=\"#m2752dcd1cd\" y=\"132.216962\"/>\n     <use style=\"fill:#0000ff;stroke:#0000ff;\" x=\"322.323536\" xlink:href=\"#m2752dcd1cd\" y=\"132.216962\"/>\n     <use style=\"fill:#0000ff;stroke:#0000ff;\" x=\"96.299078\" xlink:href=\"#m2752dcd1cd\" y=\"172.622876\"/>\n     <use style=\"fill:#0000ff;stroke:#0000ff;\" x=\"297.209707\" xlink:href=\"#m2752dcd1cd\" y=\"140.298145\"/>\n     <use style=\"fill:#0000ff;stroke:#0000ff;\" x=\"246.98205\" xlink:href=\"#m2752dcd1cd\" y=\"172.622876\"/>\n     <use style=\"fill:#0000ff;stroke:#0000ff;\" x=\"288.838431\" xlink:href=\"#m2752dcd1cd\" y=\"83.729865\"/>\n     <use style=\"fill:#0000ff;stroke:#0000ff;\" x=\"230.239498\" xlink:href=\"#m2752dcd1cd\" y=\"116.054596\"/>\n     <use style=\"fill:#0000ff;stroke:#0000ff;\" x=\"221.868222\" xlink:href=\"#m2752dcd1cd\" y=\"156.46051\"/>\n     <use style=\"fill:#0000ff;stroke:#0000ff;\" x=\"255.353326\" xlink:href=\"#m2752dcd1cd\" y=\"132.216962\"/>\n     <use style=\"fill:#0000ff;stroke:#0000ff;\" x=\"163.269288\" xlink:href=\"#m2752dcd1cd\" y=\"172.622876\"/>\n     <use style=\"fill:#0000ff;stroke:#0000ff;\" x=\"171.640564\" xlink:href=\"#m2752dcd1cd\" y=\"148.379328\"/>\n     <use style=\"fill:#0000ff;stroke:#0000ff;\" x=\"221.868222\" xlink:href=\"#m2752dcd1cd\" y=\"116.054596\"/>\n     <use style=\"fill:#0000ff;stroke:#0000ff;\" x=\"230.239498\" xlink:href=\"#m2752dcd1cd\" y=\"132.216962\"/>\n     <use style=\"fill:#0000ff;stroke:#0000ff;\" x=\"330.694812\" xlink:href=\"#m2752dcd1cd\" y=\"67.567499\"/>\n     <use style=\"fill:#0000ff;stroke:#0000ff;\" x=\"330.694812\" xlink:href=\"#m2752dcd1cd\" y=\"164.541693\"/>\n     <use style=\"fill:#0000ff;stroke:#0000ff;\" x=\"188.383117\" xlink:href=\"#m2752dcd1cd\" y=\"196.866425\"/>\n     <use style=\"fill:#0000ff;stroke:#0000ff;\" x=\"263.724603\" xlink:href=\"#m2752dcd1cd\" y=\"116.054596\"/>\n     <use style=\"fill:#0000ff;stroke:#0000ff;\" x=\"154.898012\" xlink:href=\"#m2752dcd1cd\" y=\"148.379328\"/>\n     <use style=\"fill:#0000ff;stroke:#0000ff;\" x=\"330.694812\" xlink:href=\"#m2752dcd1cd\" y=\"148.379328\"/>\n     <use style=\"fill:#0000ff;stroke:#0000ff;\" x=\"213.496945\" xlink:href=\"#m2752dcd1cd\" y=\"156.46051\"/>\n     <use style=\"fill:#0000ff;stroke:#0000ff;\" x=\"246.98205\" xlink:href=\"#m2752dcd1cd\" y=\"107.973413\"/>\n     <use style=\"fill:#0000ff;stroke:#0000ff;\" x=\"288.838431\" xlink:href=\"#m2752dcd1cd\" y=\"116.054596\"/>\n     <use style=\"fill:#0000ff;stroke:#0000ff;\" x=\"205.125669\" xlink:href=\"#m2752dcd1cd\" y=\"148.379328\"/>\n     <use style=\"fill:#0000ff;stroke:#0000ff;\" x=\"196.754393\" xlink:href=\"#m2752dcd1cd\" y=\"132.216962\"/>\n     <use style=\"fill:#0000ff;stroke:#0000ff;\" x=\"221.868222\" xlink:href=\"#m2752dcd1cd\" y=\"148.379328\"/>\n     <use style=\"fill:#0000ff;stroke:#0000ff;\" x=\"288.838431\" xlink:href=\"#m2752dcd1cd\" y=\"132.216962\"/>\n     <use style=\"fill:#0000ff;stroke:#0000ff;\" x=\"305.580984\" xlink:href=\"#m2752dcd1cd\" y=\"148.379328\"/>\n     <use style=\"fill:#0000ff;stroke:#0000ff;\" x=\"347.437365\" xlink:href=\"#m2752dcd1cd\" y=\"67.567499\"/>\n     <use style=\"fill:#0000ff;stroke:#0000ff;\" x=\"221.868222\" xlink:href=\"#m2752dcd1cd\" y=\"148.379328\"/>\n     <use style=\"fill:#0000ff;stroke:#0000ff;\" x=\"213.496945\" xlink:href=\"#m2752dcd1cd\" y=\"148.379328\"/>\n     <use style=\"fill:#0000ff;stroke:#0000ff;\" x=\"196.754393\" xlink:href=\"#m2752dcd1cd\" y=\"164.541693\"/>\n     <use style=\"fill:#0000ff;stroke:#0000ff;\" x=\"330.694812\" xlink:href=\"#m2752dcd1cd\" y=\"132.216962\"/>\n     <use style=\"fill:#0000ff;stroke:#0000ff;\" x=\"213.496945\" xlink:href=\"#m2752dcd1cd\" y=\"99.89223\"/>\n     <use style=\"fill:#0000ff;stroke:#0000ff;\" x=\"221.868222\" xlink:href=\"#m2752dcd1cd\" y=\"124.135779\"/>\n     <use style=\"fill:#0000ff;stroke:#0000ff;\" x=\"188.383117\" xlink:href=\"#m2752dcd1cd\" y=\"132.216962\"/>\n     <use style=\"fill:#0000ff;stroke:#0000ff;\" x=\"263.724603\" xlink:href=\"#m2752dcd1cd\" y=\"124.135779\"/>\n     <use style=\"fill:#0000ff;stroke:#0000ff;\" x=\"246.98205\" xlink:href=\"#m2752dcd1cd\" y=\"124.135779\"/>\n     <use style=\"fill:#0000ff;stroke:#0000ff;\" x=\"263.724603\" xlink:href=\"#m2752dcd1cd\" y=\"124.135779\"/>\n     <use style=\"fill:#0000ff;stroke:#0000ff;\" x=\"171.640564\" xlink:href=\"#m2752dcd1cd\" y=\"156.46051\"/>\n     <use style=\"fill:#0000ff;stroke:#0000ff;\" x=\"255.353326\" xlink:href=\"#m2752dcd1cd\" y=\"116.054596\"/>\n     <use style=\"fill:#0000ff;stroke:#0000ff;\" x=\"246.98205\" xlink:href=\"#m2752dcd1cd\" y=\"107.973413\"/>\n     <use style=\"fill:#0000ff;stroke:#0000ff;\" x=\"246.98205\" xlink:href=\"#m2752dcd1cd\" y=\"132.216962\"/>\n     <use style=\"fill:#0000ff;stroke:#0000ff;\" x=\"213.496945\" xlink:href=\"#m2752dcd1cd\" y=\"172.622876\"/>\n     <use style=\"fill:#0000ff;stroke:#0000ff;\" x=\"230.239498\" xlink:href=\"#m2752dcd1cd\" y=\"132.216962\"/>\n     <use style=\"fill:#0000ff;stroke:#0000ff;\" x=\"205.125669\" xlink:href=\"#m2752dcd1cd\" y=\"99.89223\"/>\n     <use style=\"fill:#0000ff;stroke:#0000ff;\" x=\"180.011841\" xlink:href=\"#m2752dcd1cd\" y=\"132.216962\"/>\n    </g>\n   </g>\n   <g id=\"matplotlib.axis_1\">\n    <g id=\"xtick_1\">\n     <g id=\"line2d_1\">\n      <defs>\n       <path d=\"M 0 0 \nL 0 3.5 \n\" id=\"me8b3442ecf\" style=\"stroke:#000000;stroke-width:0.8;\"/>\n      </defs>\n      <g>\n       <use style=\"stroke:#000000;stroke-width:0.8;\" x=\"62.813974\" xlink:href=\"#me8b3442ecf\" y=\"225.521812\"/>\n      </g>\n     </g>\n     <g id=\"text_1\">\n      <!-- 4.5 -->\n      <defs>\n       <path d=\"M 37.796875 64.3125 \nL 12.890625 25.390625 \nL 37.796875 25.390625 \nz\nM 35.203125 72.90625 \nL 47.609375 72.90625 \nL 47.609375 25.390625 \nL 58.015625 25.390625 \nL 58.015625 17.1875 \nL 47.609375 17.1875 \nL 47.609375 0 \nL 37.796875 0 \nL 37.796875 17.1875 \nL 4.890625 17.1875 \nL 4.890625 26.703125 \nz\n\" id=\"DejaVuSans-52\"/>\n       <path d=\"M 10.6875 12.40625 \nL 21 12.40625 \nL 21 0 \nL 10.6875 0 \nz\n\" id=\"DejaVuSans-46\"/>\n       <path d=\"M 10.796875 72.90625 \nL 49.515625 72.90625 \nL 49.515625 64.59375 \nL 19.828125 64.59375 \nL 19.828125 46.734375 \nQ 21.96875 47.46875 24.109375 47.828125 \nQ 26.265625 48.1875 28.421875 48.1875 \nQ 40.625 48.1875 47.75 41.5 \nQ 54.890625 34.8125 54.890625 23.390625 \nQ 54.890625 11.625 47.5625 5.09375 \nQ 40.234375 -1.421875 26.90625 -1.421875 \nQ 22.3125 -1.421875 17.546875 -0.640625 \nQ 12.796875 0.140625 7.71875 1.703125 \nL 7.71875 11.625 \nQ 12.109375 9.234375 16.796875 8.0625 \nQ 21.484375 6.890625 26.703125 6.890625 \nQ 35.15625 6.890625 40.078125 11.328125 \nQ 45.015625 15.765625 45.015625 23.390625 \nQ 45.015625 31 40.078125 35.4375 \nQ 35.15625 39.890625 26.703125 39.890625 \nQ 22.75 39.890625 18.8125 39.015625 \nQ 14.890625 38.140625 10.796875 36.28125 \nz\n\" id=\"DejaVuSans-53\"/>\n      </defs>\n      <g transform=\"translate(54.862411 240.120249)scale(0.1 -0.1)\">\n       <use xlink:href=\"#DejaVuSans-52\"/>\n       <use x=\"63.623047\" xlink:href=\"#DejaVuSans-46\"/>\n       <use x=\"95.410156\" xlink:href=\"#DejaVuSans-53\"/>\n      </g>\n     </g>\n    </g>\n    <g id=\"xtick_2\">\n     <g id=\"line2d_2\">\n      <g>\n       <use style=\"stroke:#000000;stroke-width:0.8;\" x=\"104.670355\" xlink:href=\"#me8b3442ecf\" y=\"225.521812\"/>\n      </g>\n     </g>\n     <g id=\"text_2\">\n      <!-- 5.0 -->\n      <defs>\n       <path d=\"M 31.78125 66.40625 \nQ 24.171875 66.40625 20.328125 58.90625 \nQ 16.5 51.421875 16.5 36.375 \nQ 16.5 21.390625 20.328125 13.890625 \nQ 24.171875 6.390625 31.78125 6.390625 \nQ 39.453125 6.390625 43.28125 13.890625 \nQ 47.125 21.390625 47.125 36.375 \nQ 47.125 51.421875 43.28125 58.90625 \nQ 39.453125 66.40625 31.78125 66.40625 \nz\nM 31.78125 74.21875 \nQ 44.046875 74.21875 50.515625 64.515625 \nQ 56.984375 54.828125 56.984375 36.375 \nQ 56.984375 17.96875 50.515625 8.265625 \nQ 44.046875 -1.421875 31.78125 -1.421875 \nQ 19.53125 -1.421875 13.0625 8.265625 \nQ 6.59375 17.96875 6.59375 36.375 \nQ 6.59375 54.828125 13.0625 64.515625 \nQ 19.53125 74.21875 31.78125 74.21875 \nz\n\" id=\"DejaVuSans-48\"/>\n      </defs>\n      <g transform=\"translate(96.718792 240.120249)scale(0.1 -0.1)\">\n       <use xlink:href=\"#DejaVuSans-53\"/>\n       <use x=\"63.623047\" xlink:href=\"#DejaVuSans-46\"/>\n       <use x=\"95.410156\" xlink:href=\"#DejaVuSans-48\"/>\n      </g>\n     </g>\n    </g>\n    <g id=\"xtick_3\">\n     <g id=\"line2d_3\">\n      <g>\n       <use style=\"stroke:#000000;stroke-width:0.8;\" x=\"146.526736\" xlink:href=\"#me8b3442ecf\" y=\"225.521812\"/>\n      </g>\n     </g>\n     <g id=\"text_3\">\n      <!-- 5.5 -->\n      <g transform=\"translate(138.575173 240.120249)scale(0.1 -0.1)\">\n       <use xlink:href=\"#DejaVuSans-53\"/>\n       <use x=\"63.623047\" xlink:href=\"#DejaVuSans-46\"/>\n       <use x=\"95.410156\" xlink:href=\"#DejaVuSans-53\"/>\n      </g>\n     </g>\n    </g>\n    <g id=\"xtick_4\">\n     <g id=\"line2d_4\">\n      <g>\n       <use style=\"stroke:#000000;stroke-width:0.8;\" x=\"188.383117\" xlink:href=\"#me8b3442ecf\" y=\"225.521812\"/>\n      </g>\n     </g>\n     <g id=\"text_4\">\n      <!-- 6.0 -->\n      <defs>\n       <path d=\"M 33.015625 40.375 \nQ 26.375 40.375 22.484375 35.828125 \nQ 18.609375 31.296875 18.609375 23.390625 \nQ 18.609375 15.53125 22.484375 10.953125 \nQ 26.375 6.390625 33.015625 6.390625 \nQ 39.65625 6.390625 43.53125 10.953125 \nQ 47.40625 15.53125 47.40625 23.390625 \nQ 47.40625 31.296875 43.53125 35.828125 \nQ 39.65625 40.375 33.015625 40.375 \nz\nM 52.59375 71.296875 \nL 52.59375 62.3125 \nQ 48.875 64.0625 45.09375 64.984375 \nQ 41.3125 65.921875 37.59375 65.921875 \nQ 27.828125 65.921875 22.671875 59.328125 \nQ 17.53125 52.734375 16.796875 39.40625 \nQ 19.671875 43.65625 24.015625 45.921875 \nQ 28.375 48.1875 33.59375 48.1875 \nQ 44.578125 48.1875 50.953125 41.515625 \nQ 57.328125 34.859375 57.328125 23.390625 \nQ 57.328125 12.15625 50.6875 5.359375 \nQ 44.046875 -1.421875 33.015625 -1.421875 \nQ 20.359375 -1.421875 13.671875 8.265625 \nQ 6.984375 17.96875 6.984375 36.375 \nQ 6.984375 53.65625 15.1875 63.9375 \nQ 23.390625 74.21875 37.203125 74.21875 \nQ 40.921875 74.21875 44.703125 73.484375 \nQ 48.484375 72.75 52.59375 71.296875 \nz\n\" id=\"DejaVuSans-54\"/>\n      </defs>\n      <g transform=\"translate(180.431554 240.120249)scale(0.1 -0.1)\">\n       <use xlink:href=\"#DejaVuSans-54\"/>\n       <use x=\"63.623047\" xlink:href=\"#DejaVuSans-46\"/>\n       <use x=\"95.410156\" xlink:href=\"#DejaVuSans-48\"/>\n      </g>\n     </g>\n    </g>\n    <g id=\"xtick_5\">\n     <g id=\"line2d_5\">\n      <g>\n       <use style=\"stroke:#000000;stroke-width:0.8;\" x=\"230.239498\" xlink:href=\"#me8b3442ecf\" y=\"225.521812\"/>\n      </g>\n     </g>\n     <g id=\"text_5\">\n      <!-- 6.5 -->\n      <g transform=\"translate(222.287935 240.120249)scale(0.1 -0.1)\">\n       <use xlink:href=\"#DejaVuSans-54\"/>\n       <use x=\"63.623047\" xlink:href=\"#DejaVuSans-46\"/>\n       <use x=\"95.410156\" xlink:href=\"#DejaVuSans-53\"/>\n      </g>\n     </g>\n    </g>\n    <g id=\"xtick_6\">\n     <g id=\"line2d_6\">\n      <g>\n       <use style=\"stroke:#000000;stroke-width:0.8;\" x=\"272.095879\" xlink:href=\"#me8b3442ecf\" y=\"225.521812\"/>\n      </g>\n     </g>\n     <g id=\"text_6\">\n      <!-- 7.0 -->\n      <defs>\n       <path d=\"M 8.203125 72.90625 \nL 55.078125 72.90625 \nL 55.078125 68.703125 \nL 28.609375 0 \nL 18.3125 0 \nL 43.21875 64.59375 \nL 8.203125 64.59375 \nz\n\" id=\"DejaVuSans-55\"/>\n      </defs>\n      <g transform=\"translate(264.144316 240.120249)scale(0.1 -0.1)\">\n       <use xlink:href=\"#DejaVuSans-55\"/>\n       <use x=\"63.623047\" xlink:href=\"#DejaVuSans-46\"/>\n       <use x=\"95.410156\" xlink:href=\"#DejaVuSans-48\"/>\n      </g>\n     </g>\n    </g>\n    <g id=\"xtick_7\">\n     <g id=\"line2d_7\">\n      <g>\n       <use style=\"stroke:#000000;stroke-width:0.8;\" x=\"313.95226\" xlink:href=\"#me8b3442ecf\" y=\"225.521812\"/>\n      </g>\n     </g>\n     <g id=\"text_7\">\n      <!-- 7.5 -->\n      <g transform=\"translate(306.000697 240.120249)scale(0.1 -0.1)\">\n       <use xlink:href=\"#DejaVuSans-55\"/>\n       <use x=\"63.623047\" xlink:href=\"#DejaVuSans-46\"/>\n       <use x=\"95.410156\" xlink:href=\"#DejaVuSans-53\"/>\n      </g>\n     </g>\n    </g>\n    <g id=\"xtick_8\">\n     <g id=\"line2d_8\">\n      <g>\n       <use style=\"stroke:#000000;stroke-width:0.8;\" x=\"355.808641\" xlink:href=\"#me8b3442ecf\" y=\"225.521812\"/>\n      </g>\n     </g>\n     <g id=\"text_8\">\n      <!-- 8.0 -->\n      <defs>\n       <path d=\"M 31.78125 34.625 \nQ 24.75 34.625 20.71875 30.859375 \nQ 16.703125 27.09375 16.703125 20.515625 \nQ 16.703125 13.921875 20.71875 10.15625 \nQ 24.75 6.390625 31.78125 6.390625 \nQ 38.8125 6.390625 42.859375 10.171875 \nQ 46.921875 13.96875 46.921875 20.515625 \nQ 46.921875 27.09375 42.890625 30.859375 \nQ 38.875 34.625 31.78125 34.625 \nz\nM 21.921875 38.8125 \nQ 15.578125 40.375 12.03125 44.71875 \nQ 8.5 49.078125 8.5 55.328125 \nQ 8.5 64.0625 14.71875 69.140625 \nQ 20.953125 74.21875 31.78125 74.21875 \nQ 42.671875 74.21875 48.875 69.140625 \nQ 55.078125 64.0625 55.078125 55.328125 \nQ 55.078125 49.078125 51.53125 44.71875 \nQ 48 40.375 41.703125 38.8125 \nQ 48.828125 37.15625 52.796875 32.3125 \nQ 56.78125 27.484375 56.78125 20.515625 \nQ 56.78125 9.90625 50.3125 4.234375 \nQ 43.84375 -1.421875 31.78125 -1.421875 \nQ 19.734375 -1.421875 13.25 4.234375 \nQ 6.78125 9.90625 6.78125 20.515625 \nQ 6.78125 27.484375 10.78125 32.3125 \nQ 14.796875 37.15625 21.921875 38.8125 \nz\nM 18.3125 54.390625 \nQ 18.3125 48.734375 21.84375 45.5625 \nQ 25.390625 42.390625 31.78125 42.390625 \nQ 38.140625 42.390625 41.71875 45.5625 \nQ 45.3125 48.734375 45.3125 54.390625 \nQ 45.3125 60.0625 41.71875 63.234375 \nQ 38.140625 66.40625 31.78125 66.40625 \nQ 25.390625 66.40625 21.84375 63.234375 \nQ 18.3125 60.0625 18.3125 54.390625 \nz\n\" id=\"DejaVuSans-56\"/>\n      </defs>\n      <g transform=\"translate(347.857078 240.120249)scale(0.1 -0.1)\">\n       <use xlink:href=\"#DejaVuSans-56\"/>\n       <use x=\"63.623047\" xlink:href=\"#DejaVuSans-46\"/>\n       <use x=\"95.410156\" xlink:href=\"#DejaVuSans-48\"/>\n      </g>\n     </g>\n    </g>\n   </g>\n   <g id=\"matplotlib.axis_2\">\n    <g id=\"ytick_1\">\n     <g id=\"line2d_9\">\n      <defs>\n       <path d=\"M 0 0 \nL -3.5 0 \n\" id=\"m90ed0f62ae\" style=\"stroke:#000000;stroke-width:0.8;\"/>\n      </defs>\n      <g>\n       <use style=\"stroke:#000000;stroke-width:0.8;\" x=\"30.103125\" xlink:href=\"#m90ed0f62ae\" y=\"213.02879\"/>\n      </g>\n     </g>\n     <g id=\"text_9\">\n      <!-- 2.0 -->\n      <defs>\n       <path d=\"M 19.1875 8.296875 \nL 53.609375 8.296875 \nL 53.609375 0 \nL 7.328125 0 \nL 7.328125 8.296875 \nQ 12.9375 14.109375 22.625 23.890625 \nQ 32.328125 33.6875 34.8125 36.53125 \nQ 39.546875 41.84375 41.421875 45.53125 \nQ 43.3125 49.21875 43.3125 52.78125 \nQ 43.3125 58.59375 39.234375 62.25 \nQ 35.15625 65.921875 28.609375 65.921875 \nQ 23.96875 65.921875 18.8125 64.3125 \nQ 13.671875 62.703125 7.8125 59.421875 \nL 7.8125 69.390625 \nQ 13.765625 71.78125 18.9375 73 \nQ 24.125 74.21875 28.421875 74.21875 \nQ 39.75 74.21875 46.484375 68.546875 \nQ 53.21875 62.890625 53.21875 53.421875 \nQ 53.21875 48.921875 51.53125 44.890625 \nQ 49.859375 40.875 45.40625 35.40625 \nQ 44.1875 33.984375 37.640625 27.21875 \nQ 31.109375 20.453125 19.1875 8.296875 \nz\n\" id=\"DejaVuSans-50\"/>\n      </defs>\n      <g transform=\"translate(7.2 216.828009)scale(0.1 -0.1)\">\n       <use xlink:href=\"#DejaVuSans-50\"/>\n       <use x=\"63.623047\" xlink:href=\"#DejaVuSans-46\"/>\n       <use x=\"95.410156\" xlink:href=\"#DejaVuSans-48\"/>\n      </g>\n     </g>\n    </g>\n    <g id=\"ytick_2\">\n     <g id=\"line2d_10\">\n      <g>\n       <use style=\"stroke:#000000;stroke-width:0.8;\" x=\"30.103125\" xlink:href=\"#m90ed0f62ae\" y=\"172.622876\"/>\n      </g>\n     </g>\n     <g id=\"text_10\">\n      <!-- 2.5 -->\n      <g transform=\"translate(7.2 176.422095)scale(0.1 -0.1)\">\n       <use xlink:href=\"#DejaVuSans-50\"/>\n       <use x=\"63.623047\" xlink:href=\"#DejaVuSans-46\"/>\n       <use x=\"95.410156\" xlink:href=\"#DejaVuSans-53\"/>\n      </g>\n     </g>\n    </g>\n    <g id=\"ytick_3\">\n     <g id=\"line2d_11\">\n      <g>\n       <use style=\"stroke:#000000;stroke-width:0.8;\" x=\"30.103125\" xlink:href=\"#m90ed0f62ae\" y=\"132.216962\"/>\n      </g>\n     </g>\n     <g id=\"text_11\">\n      <!-- 3.0 -->\n      <defs>\n       <path d=\"M 40.578125 39.3125 \nQ 47.65625 37.796875 51.625 33 \nQ 55.609375 28.21875 55.609375 21.1875 \nQ 55.609375 10.40625 48.1875 4.484375 \nQ 40.765625 -1.421875 27.09375 -1.421875 \nQ 22.515625 -1.421875 17.65625 -0.515625 \nQ 12.796875 0.390625 7.625 2.203125 \nL 7.625 11.71875 \nQ 11.71875 9.328125 16.59375 8.109375 \nQ 21.484375 6.890625 26.8125 6.890625 \nQ 36.078125 6.890625 40.9375 10.546875 \nQ 45.796875 14.203125 45.796875 21.1875 \nQ 45.796875 27.640625 41.28125 31.265625 \nQ 36.765625 34.90625 28.71875 34.90625 \nL 20.21875 34.90625 \nL 20.21875 43.015625 \nL 29.109375 43.015625 \nQ 36.375 43.015625 40.234375 45.921875 \nQ 44.09375 48.828125 44.09375 54.296875 \nQ 44.09375 59.90625 40.109375 62.90625 \nQ 36.140625 65.921875 28.71875 65.921875 \nQ 24.65625 65.921875 20.015625 65.03125 \nQ 15.375 64.15625 9.8125 62.3125 \nL 9.8125 71.09375 \nQ 15.4375 72.65625 20.34375 73.4375 \nQ 25.25 74.21875 29.59375 74.21875 \nQ 40.828125 74.21875 47.359375 69.109375 \nQ 53.90625 64.015625 53.90625 55.328125 \nQ 53.90625 49.265625 50.4375 45.09375 \nQ 46.96875 40.921875 40.578125 39.3125 \nz\n\" id=\"DejaVuSans-51\"/>\n      </defs>\n      <g transform=\"translate(7.2 136.016181)scale(0.1 -0.1)\">\n       <use xlink:href=\"#DejaVuSans-51\"/>\n       <use x=\"63.623047\" xlink:href=\"#DejaVuSans-46\"/>\n       <use x=\"95.410156\" xlink:href=\"#DejaVuSans-48\"/>\n      </g>\n     </g>\n    </g>\n    <g id=\"ytick_4\">\n     <g id=\"line2d_12\">\n      <g>\n       <use style=\"stroke:#000000;stroke-width:0.8;\" x=\"30.103125\" xlink:href=\"#m90ed0f62ae\" y=\"91.811047\"/>\n      </g>\n     </g>\n     <g id=\"text_12\">\n      <!-- 3.5 -->\n      <g transform=\"translate(7.2 95.610266)scale(0.1 -0.1)\">\n       <use xlink:href=\"#DejaVuSans-51\"/>\n       <use x=\"63.623047\" xlink:href=\"#DejaVuSans-46\"/>\n       <use x=\"95.410156\" xlink:href=\"#DejaVuSans-53\"/>\n      </g>\n     </g>\n    </g>\n    <g id=\"ytick_5\">\n     <g id=\"line2d_13\">\n      <g>\n       <use style=\"stroke:#000000;stroke-width:0.8;\" x=\"30.103125\" xlink:href=\"#m90ed0f62ae\" y=\"51.405133\"/>\n      </g>\n     </g>\n     <g id=\"text_13\">\n      <!-- 4.0 -->\n      <g transform=\"translate(7.2 55.204352)scale(0.1 -0.1)\">\n       <use xlink:href=\"#DejaVuSans-52\"/>\n       <use x=\"63.623047\" xlink:href=\"#DejaVuSans-46\"/>\n       <use x=\"95.410156\" xlink:href=\"#DejaVuSans-48\"/>\n      </g>\n     </g>\n    </g>\n    <g id=\"ytick_6\">\n     <g id=\"line2d_14\">\n      <g>\n       <use style=\"stroke:#000000;stroke-width:0.8;\" x=\"30.103125\" xlink:href=\"#m90ed0f62ae\" y=\"10.999219\"/>\n      </g>\n     </g>\n     <g id=\"text_14\">\n      <!-- 4.5 -->\n      <g transform=\"translate(7.2 14.798437)scale(0.1 -0.1)\">\n       <use xlink:href=\"#DejaVuSans-52\"/>\n       <use x=\"63.623047\" xlink:href=\"#DejaVuSans-46\"/>\n       <use x=\"95.410156\" xlink:href=\"#DejaVuSans-53\"/>\n      </g>\n     </g>\n    </g>\n   </g>\n   <g id=\"patch_3\">\n    <path d=\"M 30.103125 225.521812 \nL 30.103125 8.081812 \n\" style=\"fill:none;stroke:#000000;stroke-linecap:square;stroke-linejoin:miter;stroke-width:0.8;\"/>\n   </g>\n   <g id=\"patch_4\">\n    <path d=\"M 364.903125 225.521812 \nL 364.903125 8.081812 \n\" style=\"fill:none;stroke:#000000;stroke-linecap:square;stroke-linejoin:miter;stroke-width:0.8;\"/>\n   </g>\n   <g id=\"patch_5\">\n    <path d=\"M 30.103125 225.521812 \nL 364.903125 225.521812 \n\" style=\"fill:none;stroke:#000000;stroke-linecap:square;stroke-linejoin:miter;stroke-width:0.8;\"/>\n   </g>\n   <g id=\"patch_6\">\n    <path d=\"M 30.103125 8.081812 \nL 364.903125 8.081812 \n\" style=\"fill:none;stroke:#000000;stroke-linecap:square;stroke-linejoin:miter;stroke-width:0.8;\"/>\n   </g>\n  </g>\n </g>\n <defs>\n  <clipPath id=\"p13500d0151\">\n   <rect height=\"217.44\" width=\"334.8\" x=\"30.103125\" y=\"8.081812\"/>\n  </clipPath>\n </defs>\n</svg>\n",
      "image/png": "[encoded data removed]"
     },
     "metadata": {
      "needs_background": "light"
     }
    }
   ],
   "source": [
    "# 試しにプロット\n",
    "plt.scatter(iris.data[:50, 0], iris.data[:50, 1], color='red', label='setosa')\n",
    "plt.scatter(iris.data[50:100, 0], iris.data[50:100, 1], color='green', label='versicolor')\n",
    "plt.scatter(iris.data[100:150, 0], iris.data[100:150, 1], color='blue', label='virginica')\n",
    "plt.show()"
   ]
  },
  {
   "cell_type": "code",
   "execution_count": 13,
   "metadata": {},
   "outputs": [],
   "source": [
    "X = iris.data\n",
    "y = iris.target"
   ]
  },
  {
   "cell_type": "code",
   "execution_count": 14,
   "metadata": {},
   "outputs": [],
   "source": [
    "n_train = len(X)//2\n",
    "X_train, X_test, y_train, y_test = X[:n_train], X[n_train:], y[:n_train], y[n_train:]"
   ]
  },
  {
   "cell_type": "code",
   "execution_count": 17,
   "metadata": {},
   "outputs": [],
   "source": [
    "from sklearn import svm"
   ]
  },
  {
   "cell_type": "code",
   "execution_count": 18,
   "metadata": {},
   "outputs": [
    {
     "output_type": "execute_result",
     "data": {
      "text/plain": "SVC(C=1.0, break_ties=False, cache_size=200, class_weight=None, coef0=0.0,\n    decision_function_shape='ovr', degree=3, gamma='scale', kernel='rbf',\n    max_iter=-1, probability=False, random_state=None, shrinking=True,\n    tol=0.001, verbose=False)"
     },
     "metadata": {},
     "execution_count": 18
    }
   ],
   "source": [
    "clf = svm.SVC()\n",
    "clf.fit(X_train, y_train)"
   ]
  },
  {
   "cell_type": "code",
   "execution_count": 19,
   "metadata": {},
   "outputs": [
    {
     "output_type": "execute_result",
     "data": {
      "text/plain": "0.3333333333333333"
     },
     "metadata": {},
     "execution_count": 19
    }
   ],
   "source": [
    "# 結果が良くない\n",
    "clf.score(X_test, y_test)"
   ]
  },
  {
   "cell_type": "code",
   "execution_count": 20,
   "metadata": {},
   "outputs": [],
   "source": [
    "# データをシャッフルする\n",
    "from sklearn.model_selection import ShuffleSplit\n",
    "ss = ShuffleSplit(train_size=0.6, test_size=0.4, random_state=0)"
   ]
  },
  {
   "cell_type": "code",
   "execution_count": 24,
   "metadata": {},
   "outputs": [],
   "source": [
    "train_index, test_index = next(ss.split(X))\n",
    "X_train, y_train, X_test, y_test = X[train_index], y[train_index], X[test_index], y[test_index]"
   ]
  },
  {
   "cell_type": "code",
   "execution_count": 35,
   "metadata": {},
   "outputs": [
    {
     "output_type": "execute_result",
     "data": {
      "text/plain": "SVC(C=1.0, break_ties=False, cache_size=200, class_weight=None, coef0=0.0,\n    decision_function_shape='ovr', degree=3, gamma=0.05, kernel='rbf',\n    max_iter=-1, probability=False, random_state=None, shrinking=True,\n    tol=0.001, verbose=False)"
     },
     "metadata": {},
     "execution_count": 35
    }
   ],
   "source": [
    "clf = svm.SVC(gamma=0.05)\n",
    "clf.fit(X_train, y_train)"
   ]
  },
  {
   "cell_type": "code",
   "execution_count": 36,
   "metadata": {},
   "outputs": [
    {
     "output_type": "execute_result",
     "data": {
      "text/plain": "0.9"
     },
     "metadata": {},
     "execution_count": 36
    }
   ],
   "source": [
    "# よくなった\n",
    "clf.score(X_test, y_test)"
   ]
  },
  {
   "cell_type": "code",
   "execution_count": 37,
   "metadata": {},
   "outputs": [
    {
     "output_type": "execute_result",
     "data": {
      "text/plain": "0.9166666666666666"
     },
     "metadata": {},
     "execution_count": 37
    }
   ],
   "source": [
    "# 学習器を変更\n",
    "from sklearn import linear_model\n",
    "clf = linear_model.LogisticRegression()\n",
    "clf.fit(X_train, y_train)\n",
    "clf.score(X_test, y_test)"
   ]
  },
  {
   "cell_type": "code",
   "execution_count": null,
   "metadata": {},
   "outputs": [],
   "source": []
  }
 ],
 "metadata": {
  "language_info": {
   "codemirror_mode": {
    "name": "ipython",
    "version": 3
   },
   "file_extension": ".py",
   "mimetype": "text/x-python",
   "name": "python",
   "nbconvert_exporter": "python",
   "pygments_lexer": "ipython3",
   "version": 3
  },
  "orig_nbformat": 2,
  "kernelspec": {
   "name": "python_defaultSpec_1593184059312",
   "display_name": "Python 3.7.6 64-bit ('base': conda)"
  }
 },
 "nbformat": 4,
 "nbformat_minor": 2
}