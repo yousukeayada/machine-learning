{
 "cells": [
  {
   "cell_type": "markdown",
   "metadata": {},
   "source": [
    "# アヤメの分類サンプル（SVM，ロジスティック回帰）"
   ]
  },
  {
   "cell_type": "code",
   "execution_count": 2,
   "metadata": {},
   "outputs": [],
   "source": [
    "from sklearn import datasets"
   ]
  },
  {
   "cell_type": "code",
   "execution_count": 3,
   "metadata": {},
   "outputs": [],
   "source": [
    "iris = datasets.load_iris()"
   ]
  },
  {
   "cell_type": "code",
   "execution_count": 4,
   "metadata": {},
   "outputs": [
    {
     "output_type": "execute_result",
     "data": {
      "text/plain": "['DESCR', 'data', 'feature_names', 'filename', 'target', 'target_names']"
     },
     "metadata": {},
     "execution_count": 4
    }
   ],
   "source": [
    "dir(iris)"
   ]
  },
  {
   "cell_type": "code",
   "execution_count": 5,
   "metadata": {},
   "outputs": [
    {
     "output_type": "execute_result",
     "data": {
      "text/plain": "[(150, 4), (150,)]"
     },
     "metadata": {},
     "execution_count": 5
    }
   ],
   "source": [
    "[d.shape for d in [iris.data, iris.target]]"
   ]
  },
  {
   "cell_type": "code",
   "execution_count": 8,
   "metadata": {},
   "outputs": [
    {
     "output_type": "execute_result",
     "data": {
      "text/plain": "[['sepal length (cm)',\n  'sepal width (cm)',\n  'petal length (cm)',\n  'petal width (cm)'],\n array(['setosa', 'versicolor', 'virginica'], dtype='<U10')]"
     },
     "metadata": {},
     "execution_count": 8
    }
   ],
   "source": [
    "[iris.feature_names, iris.target_names]"
   ]
  },
  {
   "cell_type": "code",
   "execution_count": 9,
   "metadata": {},
   "outputs": [
    {
     "output_type": "execute_result",
     "data": {
      "text/plain": "array([5.1, 3.5, 1.4, 0.2])"
     },
     "metadata": {},
     "execution_count": 9
    }
   ],
   "source": [
    "iris.data[0]"
   ]
  },
  {
   "cell_type": "code",
   "execution_count": 4,
   "metadata": {},
   "outputs": [],
   "source": [
    "import matplotlib.pyplot as plt"
   ]
  },
  {
   "cell_type": "code",
   "execution_count": 5,
   "metadata": {},
   "outputs": [
    {
     "output_type": "display_data",
     "data": {
      "text/plain": "<Figure size 432x288 with 1 Axes>",
      "image/svg+xml": "<?xml version=\"1.0\" encoding=\"utf-8\" standalone=\"no\"?>\n<!DOCTYPE svg PUBLIC \"-//W3C//DTD SVG 1.1//EN\"\n  \"http://www.w3.org/Graphics/SVG/1.1/DTD/svg11.dtd\">\n<!-- Created with matplotlib (https://matplotlib.org/) -->\n<svg height=\"250.670071pt\" version=\"1.1\" viewBox=\"0 0 373.291051 250.670071\" width=\"373.291051pt\" xmlns=\"http://www.w3.org/2000/svg\" xmlns:xlink=\"http://www.w3.org/1999/xlink\">\n <metadata>\n  <rdf:RDF xmlns:cc=\"http://creativecommons.org/ns#\" xmlns:dc=\"http://purl.org/dc/elements/1.1/\" xmlns:rdf=\"http://www.w3.org/1999/02/22-rdf-syntax-ns#\">\n   <cc:Work>\n    <dc:type rdf:resource=\"http://purl.org/dc/dcmitype/StillImage\"/>\n    <dc:date>2020-09-01T15:26:54.202980</dc:date>\n    <dc:format>image/svg+xml</dc:format>\n    <dc:creator>\n     <cc:Agent>\n      <dc:title>Matplotlib v3.3.1, https://matplotlib.org/</dc:title>\n     </cc:Agent>\n    </dc:creator>\n   </cc:Work>\n  </rdf:RDF>\n </metadata>\n <defs>\n  <style type=\"text/css\">*{stroke-linecap:butt;stroke-linejoin:round;}</style>\n </defs>\n <g id=\"figure_1\">\n  <g id=\"patch_1\">\n   <path d=\"M 0 250.670071 \nL 373.291051 250.670071 \nL 373.291051 0 \nL 0 0 \nz\n\" style=\"fill:none;\"/>\n  </g>\n  <g id=\"axes_1\">\n   <g id=\"patch_2\">\n    <path d=\"M 30.103125 226.791946 \nL 364.903125 226.791946 \nL 364.903125 9.351946 \nL 30.103125 9.351946 \nz\n\" style=\"fill:#ffffff;\"/>\n   </g>\n   <g id=\"PathCollection_1\">\n    <defs>\n     <path d=\"M 0 3 \nC 0.795609 3 1.55874 2.683901 2.12132 2.12132 \nC 2.683901 1.55874 3 0.795609 3 0 \nC 3 -0.795609 2.683901 -1.55874 2.12132 -2.12132 \nC 1.55874 -2.683901 0.795609 -3 0 -3 \nC -0.795609 -3 -1.55874 -2.683901 -2.12132 -2.12132 \nC -2.683901 -1.55874 -3 -0.795609 -3 0 \nC -3 0.795609 -2.683901 1.55874 -2.12132 2.12132 \nC -1.55874 2.683901 -0.795609 3 0 3 \nz\n\" id=\"m19fbb7fb8c\" style=\"stroke:#ff0000;\"/>\n    </defs>\n    <g clip-path=\"url(#p544336114a)\">\n     <use style=\"fill:#ff0000;stroke:#ff0000;\" x=\"112.95767\" xlink:href=\"#m19fbb7fb8c\" y=\"93.362855\"/>\n     <use style=\"fill:#ff0000;stroke:#ff0000;\" x=\"96.04858\" xlink:href=\"#m19fbb7fb8c\" y=\"134.544673\"/>\n     <use style=\"fill:#ff0000;stroke:#ff0000;\" x=\"79.139489\" xlink:href=\"#m19fbb7fb8c\" y=\"118.071946\"/>\n     <use style=\"fill:#ff0000;stroke:#ff0000;\" x=\"70.684943\" xlink:href=\"#m19fbb7fb8c\" y=\"126.30831\"/>\n     <use style=\"fill:#ff0000;stroke:#ff0000;\" x=\"104.503125\" xlink:href=\"#m19fbb7fb8c\" y=\"85.126491\"/>\n     <use style=\"fill:#ff0000;stroke:#ff0000;\" x=\"138.321307\" xlink:href=\"#m19fbb7fb8c\" y=\"60.417401\"/>\n     <use style=\"fill:#ff0000;stroke:#ff0000;\" x=\"70.684943\" xlink:href=\"#m19fbb7fb8c\" y=\"101.599219\"/>\n     <use style=\"fill:#ff0000;stroke:#ff0000;\" x=\"104.503125\" xlink:href=\"#m19fbb7fb8c\" y=\"101.599219\"/>\n     <use style=\"fill:#ff0000;stroke:#ff0000;\" x=\"53.775852\" xlink:href=\"#m19fbb7fb8c\" y=\"142.781037\"/>\n     <use style=\"fill:#ff0000;stroke:#ff0000;\" x=\"96.04858\" xlink:href=\"#m19fbb7fb8c\" y=\"126.30831\"/>\n     <use style=\"fill:#ff0000;stroke:#ff0000;\" x=\"138.321307\" xlink:href=\"#m19fbb7fb8c\" y=\"76.890128\"/>\n     <use style=\"fill:#ff0000;stroke:#ff0000;\" x=\"87.594034\" xlink:href=\"#m19fbb7fb8c\" y=\"101.599219\"/>\n     <use style=\"fill:#ff0000;stroke:#ff0000;\" x=\"87.594034\" xlink:href=\"#m19fbb7fb8c\" y=\"134.544673\"/>\n     <use style=\"fill:#ff0000;stroke:#ff0000;\" x=\"45.321307\" xlink:href=\"#m19fbb7fb8c\" y=\"134.544673\"/>\n     <use style=\"fill:#ff0000;stroke:#ff0000;\" x=\"172.139489\" xlink:href=\"#m19fbb7fb8c\" y=\"52.181037\"/>\n     <use style=\"fill:#ff0000;stroke:#ff0000;\" x=\"163.684943\" xlink:href=\"#m19fbb7fb8c\" y=\"19.235582\"/>\n     <use style=\"fill:#ff0000;stroke:#ff0000;\" x=\"138.321307\" xlink:href=\"#m19fbb7fb8c\" y=\"60.417401\"/>\n     <use style=\"fill:#ff0000;stroke:#ff0000;\" x=\"112.95767\" xlink:href=\"#m19fbb7fb8c\" y=\"93.362855\"/>\n     <use style=\"fill:#ff0000;stroke:#ff0000;\" x=\"163.684943\" xlink:href=\"#m19fbb7fb8c\" y=\"68.653764\"/>\n     <use style=\"fill:#ff0000;stroke:#ff0000;\" x=\"112.95767\" xlink:href=\"#m19fbb7fb8c\" y=\"68.653764\"/>\n     <use style=\"fill:#ff0000;stroke:#ff0000;\" x=\"138.321307\" xlink:href=\"#m19fbb7fb8c\" y=\"101.599219\"/>\n     <use style=\"fill:#ff0000;stroke:#ff0000;\" x=\"112.95767\" xlink:href=\"#m19fbb7fb8c\" y=\"76.890128\"/>\n     <use style=\"fill:#ff0000;stroke:#ff0000;\" x=\"70.684943\" xlink:href=\"#m19fbb7fb8c\" y=\"85.126491\"/>\n     <use style=\"fill:#ff0000;stroke:#ff0000;\" x=\"112.95767\" xlink:href=\"#m19fbb7fb8c\" y=\"109.835582\"/>\n     <use style=\"fill:#ff0000;stroke:#ff0000;\" x=\"87.594034\" xlink:href=\"#m19fbb7fb8c\" y=\"101.599219\"/>\n     <use style=\"fill:#ff0000;stroke:#ff0000;\" x=\"104.503125\" xlink:href=\"#m19fbb7fb8c\" y=\"134.544673\"/>\n     <use style=\"fill:#ff0000;stroke:#ff0000;\" x=\"104.503125\" xlink:href=\"#m19fbb7fb8c\" y=\"101.599219\"/>\n     <use style=\"fill:#ff0000;stroke:#ff0000;\" x=\"121.412216\" xlink:href=\"#m19fbb7fb8c\" y=\"93.362855\"/>\n     <use style=\"fill:#ff0000;stroke:#ff0000;\" x=\"121.412216\" xlink:href=\"#m19fbb7fb8c\" y=\"101.599219\"/>\n     <use style=\"fill:#ff0000;stroke:#ff0000;\" x=\"79.139489\" xlink:href=\"#m19fbb7fb8c\" y=\"118.071946\"/>\n     <use style=\"fill:#ff0000;stroke:#ff0000;\" x=\"87.594034\" xlink:href=\"#m19fbb7fb8c\" y=\"126.30831\"/>\n     <use style=\"fill:#ff0000;stroke:#ff0000;\" x=\"138.321307\" xlink:href=\"#m19fbb7fb8c\" y=\"101.599219\"/>\n     <use style=\"fill:#ff0000;stroke:#ff0000;\" x=\"121.412216\" xlink:href=\"#m19fbb7fb8c\" y=\"43.944673\"/>\n     <use style=\"fill:#ff0000;stroke:#ff0000;\" x=\"146.775852\" xlink:href=\"#m19fbb7fb8c\" y=\"35.70831\"/>\n     <use style=\"fill:#ff0000;stroke:#ff0000;\" x=\"96.04858\" xlink:href=\"#m19fbb7fb8c\" y=\"126.30831\"/>\n     <use style=\"fill:#ff0000;stroke:#ff0000;\" x=\"104.503125\" xlink:href=\"#m19fbb7fb8c\" y=\"118.071946\"/>\n     <use style=\"fill:#ff0000;stroke:#ff0000;\" x=\"146.775852\" xlink:href=\"#m19fbb7fb8c\" y=\"93.362855\"/>\n     <use style=\"fill:#ff0000;stroke:#ff0000;\" x=\"96.04858\" xlink:href=\"#m19fbb7fb8c\" y=\"85.126491\"/>\n     <use style=\"fill:#ff0000;stroke:#ff0000;\" x=\"53.775852\" xlink:href=\"#m19fbb7fb8c\" y=\"134.544673\"/>\n     <use style=\"fill:#ff0000;stroke:#ff0000;\" x=\"112.95767\" xlink:href=\"#m19fbb7fb8c\" y=\"101.599219\"/>\n     <use style=\"fill:#ff0000;stroke:#ff0000;\" x=\"104.503125\" xlink:href=\"#m19fbb7fb8c\" y=\"93.362855\"/>\n     <use style=\"fill:#ff0000;stroke:#ff0000;\" x=\"62.230398\" xlink:href=\"#m19fbb7fb8c\" y=\"192.199219\"/>\n     <use style=\"fill:#ff0000;stroke:#ff0000;\" x=\"53.775852\" xlink:href=\"#m19fbb7fb8c\" y=\"118.071946\"/>\n     <use style=\"fill:#ff0000;stroke:#ff0000;\" x=\"104.503125\" xlink:href=\"#m19fbb7fb8c\" y=\"93.362855\"/>\n     <use style=\"fill:#ff0000;stroke:#ff0000;\" x=\"112.95767\" xlink:href=\"#m19fbb7fb8c\" y=\"68.653764\"/>\n     <use style=\"fill:#ff0000;stroke:#ff0000;\" x=\"87.594034\" xlink:href=\"#m19fbb7fb8c\" y=\"134.544673\"/>\n     <use style=\"fill:#ff0000;stroke:#ff0000;\" x=\"112.95767\" xlink:href=\"#m19fbb7fb8c\" y=\"68.653764\"/>\n     <use style=\"fill:#ff0000;stroke:#ff0000;\" x=\"70.684943\" xlink:href=\"#m19fbb7fb8c\" y=\"118.071946\"/>\n     <use style=\"fill:#ff0000;stroke:#ff0000;\" x=\"129.866761\" xlink:href=\"#m19fbb7fb8c\" y=\"76.890128\"/>\n     <use style=\"fill:#ff0000;stroke:#ff0000;\" x=\"104.503125\" xlink:href=\"#m19fbb7fb8c\" y=\"109.835582\"/>\n    </g>\n   </g>\n   <g id=\"PathCollection_2\">\n    <defs>\n     <path d=\"M 0 3 \nC 0.795609 3 1.55874 2.683901 2.12132 2.12132 \nC 2.683901 1.55874 3 0.795609 3 0 \nC 3 -0.795609 2.683901 -1.55874 2.12132 -2.12132 \nC 1.55874 -2.683901 0.795609 -3 0 -3 \nC -0.795609 -3 -1.55874 -2.683901 -2.12132 -2.12132 \nC -2.683901 -1.55874 -3 -0.795609 -3 0 \nC -3 0.795609 -2.683901 1.55874 -2.12132 2.12132 \nC -1.55874 2.683901 -0.795609 3 0 3 \nz\n\" id=\"mfab7858b35\" style=\"stroke:#008000;\"/>\n    </defs>\n    <g clip-path=\"url(#p544336114a)\">\n     <use style=\"fill:#008000;stroke:#008000;\" x=\"273.594034\" xlink:href=\"#mfab7858b35\" y=\"118.071946\"/>\n     <use style=\"fill:#008000;stroke:#008000;\" x=\"222.866761\" xlink:href=\"#mfab7858b35\" y=\"118.071946\"/>\n     <use style=\"fill:#008000;stroke:#008000;\" x=\"265.139489\" xlink:href=\"#mfab7858b35\" y=\"126.30831\"/>\n     <use style=\"fill:#008000;stroke:#008000;\" x=\"146.775852\" xlink:href=\"#mfab7858b35\" y=\"192.199219\"/>\n     <use style=\"fill:#008000;stroke:#008000;\" x=\"231.321307\" xlink:href=\"#mfab7858b35\" y=\"151.017401\"/>\n     <use style=\"fill:#008000;stroke:#008000;\" x=\"163.684943\" xlink:href=\"#mfab7858b35\" y=\"151.017401\"/>\n     <use style=\"fill:#008000;stroke:#008000;\" x=\"214.412216\" xlink:href=\"#mfab7858b35\" y=\"109.835582\"/>\n     <use style=\"fill:#008000;stroke:#008000;\" x=\"96.04858\" xlink:href=\"#mfab7858b35\" y=\"183.962855\"/>\n     <use style=\"fill:#008000;stroke:#008000;\" x=\"239.775852\" xlink:href=\"#mfab7858b35\" y=\"142.781037\"/>\n     <use style=\"fill:#008000;stroke:#008000;\" x=\"121.412216\" xlink:href=\"#mfab7858b35\" y=\"159.253764\"/>\n     <use style=\"fill:#008000;stroke:#008000;\" x=\"104.503125\" xlink:href=\"#mfab7858b35\" y=\"216.90831\"/>\n     <use style=\"fill:#008000;stroke:#008000;\" x=\"180.594034\" xlink:href=\"#mfab7858b35\" y=\"134.544673\"/>\n     <use style=\"fill:#008000;stroke:#008000;\" x=\"189.04858\" xlink:href=\"#mfab7858b35\" y=\"200.435582\"/>\n     <use style=\"fill:#008000;stroke:#008000;\" x=\"197.503125\" xlink:href=\"#mfab7858b35\" y=\"142.781037\"/>\n     <use style=\"fill:#008000;stroke:#008000;\" x=\"155.230398\" xlink:href=\"#mfab7858b35\" y=\"142.781037\"/>\n     <use style=\"fill:#008000;stroke:#008000;\" x=\"248.230398\" xlink:href=\"#mfab7858b35\" y=\"126.30831\"/>\n     <use style=\"fill:#008000;stroke:#008000;\" x=\"155.230398\" xlink:href=\"#mfab7858b35\" y=\"134.544673\"/>\n     <use style=\"fill:#008000;stroke:#008000;\" x=\"172.139489\" xlink:href=\"#mfab7858b35\" y=\"159.253764\"/>\n     <use style=\"fill:#008000;stroke:#008000;\" x=\"205.95767\" xlink:href=\"#mfab7858b35\" y=\"200.435582\"/>\n     <use style=\"fill:#008000;stroke:#008000;\" x=\"155.230398\" xlink:href=\"#mfab7858b35\" y=\"175.726491\"/>\n     <use style=\"fill:#008000;stroke:#008000;\" x=\"180.594034\" xlink:href=\"#mfab7858b35\" y=\"118.071946\"/>\n     <use style=\"fill:#008000;stroke:#008000;\" x=\"197.503125\" xlink:href=\"#mfab7858b35\" y=\"151.017401\"/>\n     <use style=\"fill:#008000;stroke:#008000;\" x=\"214.412216\" xlink:href=\"#mfab7858b35\" y=\"175.726491\"/>\n     <use style=\"fill:#008000;stroke:#008000;\" x=\"197.503125\" xlink:href=\"#mfab7858b35\" y=\"151.017401\"/>\n     <use style=\"fill:#008000;stroke:#008000;\" x=\"222.866761\" xlink:href=\"#mfab7858b35\" y=\"142.781037\"/>\n     <use style=\"fill:#008000;stroke:#008000;\" x=\"239.775852\" xlink:href=\"#mfab7858b35\" y=\"134.544673\"/>\n     <use style=\"fill:#008000;stroke:#008000;\" x=\"256.684943\" xlink:href=\"#mfab7858b35\" y=\"151.017401\"/>\n     <use style=\"fill:#008000;stroke:#008000;\" x=\"248.230398\" xlink:href=\"#mfab7858b35\" y=\"134.544673\"/>\n     <use style=\"fill:#008000;stroke:#008000;\" x=\"189.04858\" xlink:href=\"#mfab7858b35\" y=\"142.781037\"/>\n     <use style=\"fill:#008000;stroke:#008000;\" x=\"163.684943\" xlink:href=\"#mfab7858b35\" y=\"167.490128\"/>\n     <use style=\"fill:#008000;stroke:#008000;\" x=\"146.775852\" xlink:href=\"#mfab7858b35\" y=\"183.962855\"/>\n     <use style=\"fill:#008000;stroke:#008000;\" x=\"146.775852\" xlink:href=\"#mfab7858b35\" y=\"183.962855\"/>\n     <use style=\"fill:#008000;stroke:#008000;\" x=\"172.139489\" xlink:href=\"#mfab7858b35\" y=\"159.253764\"/>\n     <use style=\"fill:#008000;stroke:#008000;\" x=\"189.04858\" xlink:href=\"#mfab7858b35\" y=\"159.253764\"/>\n     <use style=\"fill:#008000;stroke:#008000;\" x=\"138.321307\" xlink:href=\"#mfab7858b35\" y=\"134.544673\"/>\n     <use style=\"fill:#008000;stroke:#008000;\" x=\"189.04858\" xlink:href=\"#mfab7858b35\" y=\"101.599219\"/>\n     <use style=\"fill:#008000;stroke:#008000;\" x=\"248.230398\" xlink:href=\"#mfab7858b35\" y=\"126.30831\"/>\n     <use style=\"fill:#008000;stroke:#008000;\" x=\"214.412216\" xlink:href=\"#mfab7858b35\" y=\"192.199219\"/>\n     <use style=\"fill:#008000;stroke:#008000;\" x=\"155.230398\" xlink:href=\"#mfab7858b35\" y=\"134.544673\"/>\n     <use style=\"fill:#008000;stroke:#008000;\" x=\"146.775852\" xlink:href=\"#mfab7858b35\" y=\"175.726491\"/>\n     <use style=\"fill:#008000;stroke:#008000;\" x=\"146.775852\" xlink:href=\"#mfab7858b35\" y=\"167.490128\"/>\n     <use style=\"fill:#008000;stroke:#008000;\" x=\"197.503125\" xlink:href=\"#mfab7858b35\" y=\"134.544673\"/>\n     <use style=\"fill:#008000;stroke:#008000;\" x=\"172.139489\" xlink:href=\"#mfab7858b35\" y=\"167.490128\"/>\n     <use style=\"fill:#008000;stroke:#008000;\" x=\"104.503125\" xlink:href=\"#mfab7858b35\" y=\"192.199219\"/>\n     <use style=\"fill:#008000;stroke:#008000;\" x=\"155.230398\" xlink:href=\"#mfab7858b35\" y=\"159.253764\"/>\n     <use style=\"fill:#008000;stroke:#008000;\" x=\"163.684943\" xlink:href=\"#mfab7858b35\" y=\"134.544673\"/>\n     <use style=\"fill:#008000;stroke:#008000;\" x=\"163.684943\" xlink:href=\"#mfab7858b35\" y=\"142.781037\"/>\n     <use style=\"fill:#008000;stroke:#008000;\" x=\"205.95767\" xlink:href=\"#mfab7858b35\" y=\"142.781037\"/>\n     <use style=\"fill:#008000;stroke:#008000;\" x=\"112.95767\" xlink:href=\"#mfab7858b35\" y=\"175.726491\"/>\n     <use style=\"fill:#008000;stroke:#008000;\" x=\"163.684943\" xlink:href=\"#mfab7858b35\" y=\"151.017401\"/>\n    </g>\n   </g>\n   <g id=\"PathCollection_3\">\n    <defs>\n     <path d=\"M 0 3 \nC 0.795609 3 1.55874 2.683901 2.12132 2.12132 \nC 2.683901 1.55874 3 0.795609 3 0 \nC 3 -0.795609 2.683901 -1.55874 2.12132 -2.12132 \nC 1.55874 -2.683901 0.795609 -3 0 -3 \nC -0.795609 -3 -1.55874 -2.683901 -2.12132 -2.12132 \nC -2.683901 -1.55874 -3 -0.795609 -3 0 \nC -3 0.795609 -2.683901 1.55874 -2.12132 2.12132 \nC -1.55874 2.683901 -0.795609 3 0 3 \nz\n\" id=\"m9822d641b4\" style=\"stroke:#0000ff;\"/>\n    </defs>\n    <g clip-path=\"url(#p544336114a)\">\n     <use style=\"fill:#0000ff;stroke:#0000ff;\" x=\"214.412216\" xlink:href=\"#m9822d641b4\" y=\"109.835582\"/>\n     <use style=\"fill:#0000ff;stroke:#0000ff;\" x=\"172.139489\" xlink:href=\"#m9822d641b4\" y=\"159.253764\"/>\n     <use style=\"fill:#0000ff;stroke:#0000ff;\" x=\"282.04858\" xlink:href=\"#m9822d641b4\" y=\"134.544673\"/>\n     <use style=\"fill:#0000ff;stroke:#0000ff;\" x=\"214.412216\" xlink:href=\"#m9822d641b4\" y=\"142.781037\"/>\n     <use style=\"fill:#0000ff;stroke:#0000ff;\" x=\"231.321307\" xlink:href=\"#m9822d641b4\" y=\"134.544673\"/>\n     <use style=\"fill:#0000ff;stroke:#0000ff;\" x=\"324.321307\" xlink:href=\"#m9822d641b4\" y=\"134.544673\"/>\n     <use style=\"fill:#0000ff;stroke:#0000ff;\" x=\"96.04858\" xlink:href=\"#m9822d641b4\" y=\"175.726491\"/>\n     <use style=\"fill:#0000ff;stroke:#0000ff;\" x=\"298.95767\" xlink:href=\"#m9822d641b4\" y=\"142.781037\"/>\n     <use style=\"fill:#0000ff;stroke:#0000ff;\" x=\"248.230398\" xlink:href=\"#m9822d641b4\" y=\"175.726491\"/>\n     <use style=\"fill:#0000ff;stroke:#0000ff;\" x=\"290.503125\" xlink:href=\"#m9822d641b4\" y=\"85.126491\"/>\n     <use style=\"fill:#0000ff;stroke:#0000ff;\" x=\"231.321307\" xlink:href=\"#m9822d641b4\" y=\"118.071946\"/>\n     <use style=\"fill:#0000ff;stroke:#0000ff;\" x=\"222.866761\" xlink:href=\"#m9822d641b4\" y=\"159.253764\"/>\n     <use style=\"fill:#0000ff;stroke:#0000ff;\" x=\"256.684943\" xlink:href=\"#m9822d641b4\" y=\"134.544673\"/>\n     <use style=\"fill:#0000ff;stroke:#0000ff;\" x=\"163.684943\" xlink:href=\"#m9822d641b4\" y=\"175.726491\"/>\n     <use style=\"fill:#0000ff;stroke:#0000ff;\" x=\"172.139489\" xlink:href=\"#m9822d641b4\" y=\"151.017401\"/>\n     <use style=\"fill:#0000ff;stroke:#0000ff;\" x=\"222.866761\" xlink:href=\"#m9822d641b4\" y=\"118.071946\"/>\n     <use style=\"fill:#0000ff;stroke:#0000ff;\" x=\"231.321307\" xlink:href=\"#m9822d641b4\" y=\"134.544673\"/>\n     <use style=\"fill:#0000ff;stroke:#0000ff;\" x=\"332.775852\" xlink:href=\"#m9822d641b4\" y=\"68.653764\"/>\n     <use style=\"fill:#0000ff;stroke:#0000ff;\" x=\"332.775852\" xlink:href=\"#m9822d641b4\" y=\"167.490128\"/>\n     <use style=\"fill:#0000ff;stroke:#0000ff;\" x=\"189.04858\" xlink:href=\"#m9822d641b4\" y=\"200.435582\"/>\n     <use style=\"fill:#0000ff;stroke:#0000ff;\" x=\"265.139489\" xlink:href=\"#m9822d641b4\" y=\"118.071946\"/>\n     <use style=\"fill:#0000ff;stroke:#0000ff;\" x=\"155.230398\" xlink:href=\"#m9822d641b4\" y=\"151.017401\"/>\n     <use style=\"fill:#0000ff;stroke:#0000ff;\" x=\"332.775852\" xlink:href=\"#m9822d641b4\" y=\"151.017401\"/>\n     <use style=\"fill:#0000ff;stroke:#0000ff;\" x=\"214.412216\" xlink:href=\"#m9822d641b4\" y=\"159.253764\"/>\n     <use style=\"fill:#0000ff;stroke:#0000ff;\" x=\"248.230398\" xlink:href=\"#m9822d641b4\" y=\"109.835582\"/>\n     <use style=\"fill:#0000ff;stroke:#0000ff;\" x=\"290.503125\" xlink:href=\"#m9822d641b4\" y=\"118.071946\"/>\n     <use style=\"fill:#0000ff;stroke:#0000ff;\" x=\"205.95767\" xlink:href=\"#m9822d641b4\" y=\"151.017401\"/>\n     <use style=\"fill:#0000ff;stroke:#0000ff;\" x=\"197.503125\" xlink:href=\"#m9822d641b4\" y=\"134.544673\"/>\n     <use style=\"fill:#0000ff;stroke:#0000ff;\" x=\"222.866761\" xlink:href=\"#m9822d641b4\" y=\"151.017401\"/>\n     <use style=\"fill:#0000ff;stroke:#0000ff;\" x=\"290.503125\" xlink:href=\"#m9822d641b4\" y=\"134.544673\"/>\n     <use style=\"fill:#0000ff;stroke:#0000ff;\" x=\"307.412216\" xlink:href=\"#m9822d641b4\" y=\"151.017401\"/>\n     <use style=\"fill:#0000ff;stroke:#0000ff;\" x=\"349.684943\" xlink:href=\"#m9822d641b4\" y=\"68.653764\"/>\n     <use style=\"fill:#0000ff;stroke:#0000ff;\" x=\"222.866761\" xlink:href=\"#m9822d641b4\" y=\"151.017401\"/>\n     <use style=\"fill:#0000ff;stroke:#0000ff;\" x=\"214.412216\" xlink:href=\"#m9822d641b4\" y=\"151.017401\"/>\n     <use style=\"fill:#0000ff;stroke:#0000ff;\" x=\"197.503125\" xlink:href=\"#m9822d641b4\" y=\"167.490128\"/>\n     <use style=\"fill:#0000ff;stroke:#0000ff;\" x=\"332.775852\" xlink:href=\"#m9822d641b4\" y=\"134.544673\"/>\n     <use style=\"fill:#0000ff;stroke:#0000ff;\" x=\"214.412216\" xlink:href=\"#m9822d641b4\" y=\"101.599219\"/>\n     <use style=\"fill:#0000ff;stroke:#0000ff;\" x=\"222.866761\" xlink:href=\"#m9822d641b4\" y=\"126.30831\"/>\n     <use style=\"fill:#0000ff;stroke:#0000ff;\" x=\"189.04858\" xlink:href=\"#m9822d641b4\" y=\"134.544673\"/>\n     <use style=\"fill:#0000ff;stroke:#0000ff;\" x=\"265.139489\" xlink:href=\"#m9822d641b4\" y=\"126.30831\"/>\n     <use style=\"fill:#0000ff;stroke:#0000ff;\" x=\"248.230398\" xlink:href=\"#m9822d641b4\" y=\"126.30831\"/>\n     <use style=\"fill:#0000ff;stroke:#0000ff;\" x=\"265.139489\" xlink:href=\"#m9822d641b4\" y=\"126.30831\"/>\n     <use style=\"fill:#0000ff;stroke:#0000ff;\" x=\"172.139489\" xlink:href=\"#m9822d641b4\" y=\"159.253764\"/>\n     <use style=\"fill:#0000ff;stroke:#0000ff;\" x=\"256.684943\" xlink:href=\"#m9822d641b4\" y=\"118.071946\"/>\n     <use style=\"fill:#0000ff;stroke:#0000ff;\" x=\"248.230398\" xlink:href=\"#m9822d641b4\" y=\"109.835582\"/>\n     <use style=\"fill:#0000ff;stroke:#0000ff;\" x=\"248.230398\" xlink:href=\"#m9822d641b4\" y=\"134.544673\"/>\n     <use style=\"fill:#0000ff;stroke:#0000ff;\" x=\"214.412216\" xlink:href=\"#m9822d641b4\" y=\"175.726491\"/>\n     <use style=\"fill:#0000ff;stroke:#0000ff;\" x=\"231.321307\" xlink:href=\"#m9822d641b4\" y=\"134.544673\"/>\n     <use style=\"fill:#0000ff;stroke:#0000ff;\" x=\"205.95767\" xlink:href=\"#m9822d641b4\" y=\"101.599219\"/>\n     <use style=\"fill:#0000ff;stroke:#0000ff;\" x=\"180.594034\" xlink:href=\"#m9822d641b4\" y=\"134.544673\"/>\n    </g>\n   </g>\n   <g id=\"matplotlib.axis_1\">\n    <g id=\"xtick_1\">\n     <g id=\"line2d_1\">\n      <defs>\n       <path d=\"M 0 0 \nL 0 3.5 \n\" id=\"m085f7673c8\" style=\"stroke:#000000;stroke-width:0.8;\"/>\n      </defs>\n      <g>\n       <use style=\"stroke:#000000;stroke-width:0.8;\" x=\"62.230398\" xlink:href=\"#m085f7673c8\" y=\"226.791946\"/>\n      </g>\n     </g>\n     <g id=\"text_1\">\n      <!-- 4.5 -->\n      <g transform=\"translate(54.278835 241.390384)scale(0.1 -0.1)\">\n       <defs>\n        <path d=\"M 37.796875 64.3125 \nL 12.890625 25.390625 \nL 37.796875 25.390625 \nz\nM 35.203125 72.90625 \nL 47.609375 72.90625 \nL 47.609375 25.390625 \nL 58.015625 25.390625 \nL 58.015625 17.1875 \nL 47.609375 17.1875 \nL 47.609375 0 \nL 37.796875 0 \nL 37.796875 17.1875 \nL 4.890625 17.1875 \nL 4.890625 26.703125 \nz\n\" id=\"DejaVuSans-52\"/>\n        <path d=\"M 10.6875 12.40625 \nL 21 12.40625 \nL 21 0 \nL 10.6875 0 \nz\n\" id=\"DejaVuSans-46\"/>\n        <path d=\"M 10.796875 72.90625 \nL 49.515625 72.90625 \nL 49.515625 64.59375 \nL 19.828125 64.59375 \nL 19.828125 46.734375 \nQ 21.96875 47.46875 24.109375 47.828125 \nQ 26.265625 48.1875 28.421875 48.1875 \nQ 40.625 48.1875 47.75 41.5 \nQ 54.890625 34.8125 54.890625 23.390625 \nQ 54.890625 11.625 47.5625 5.09375 \nQ 40.234375 -1.421875 26.90625 -1.421875 \nQ 22.3125 -1.421875 17.546875 -0.640625 \nQ 12.796875 0.140625 7.71875 1.703125 \nL 7.71875 11.625 \nQ 12.109375 9.234375 16.796875 8.0625 \nQ 21.484375 6.890625 26.703125 6.890625 \nQ 35.15625 6.890625 40.078125 11.328125 \nQ 45.015625 15.765625 45.015625 23.390625 \nQ 45.015625 31 40.078125 35.4375 \nQ 35.15625 39.890625 26.703125 39.890625 \nQ 22.75 39.890625 18.8125 39.015625 \nQ 14.890625 38.140625 10.796875 36.28125 \nz\n\" id=\"DejaVuSans-53\"/>\n       </defs>\n       <use xlink:href=\"#DejaVuSans-52\"/>\n       <use x=\"63.623047\" xlink:href=\"#DejaVuSans-46\"/>\n       <use x=\"95.410156\" xlink:href=\"#DejaVuSans-53\"/>\n      </g>\n     </g>\n    </g>\n    <g id=\"xtick_2\">\n     <g id=\"line2d_2\">\n      <g>\n       <use style=\"stroke:#000000;stroke-width:0.8;\" x=\"104.503125\" xlink:href=\"#m085f7673c8\" y=\"226.791946\"/>\n      </g>\n     </g>\n     <g id=\"text_2\">\n      <!-- 5.0 -->\n      <g transform=\"translate(96.551563 241.390384)scale(0.1 -0.1)\">\n       <defs>\n        <path d=\"M 31.78125 66.40625 \nQ 24.171875 66.40625 20.328125 58.90625 \nQ 16.5 51.421875 16.5 36.375 \nQ 16.5 21.390625 20.328125 13.890625 \nQ 24.171875 6.390625 31.78125 6.390625 \nQ 39.453125 6.390625 43.28125 13.890625 \nQ 47.125 21.390625 47.125 36.375 \nQ 47.125 51.421875 43.28125 58.90625 \nQ 39.453125 66.40625 31.78125 66.40625 \nz\nM 31.78125 74.21875 \nQ 44.046875 74.21875 50.515625 64.515625 \nQ 56.984375 54.828125 56.984375 36.375 \nQ 56.984375 17.96875 50.515625 8.265625 \nQ 44.046875 -1.421875 31.78125 -1.421875 \nQ 19.53125 -1.421875 13.0625 8.265625 \nQ 6.59375 17.96875 6.59375 36.375 \nQ 6.59375 54.828125 13.0625 64.515625 \nQ 19.53125 74.21875 31.78125 74.21875 \nz\n\" id=\"DejaVuSans-48\"/>\n       </defs>\n       <use xlink:href=\"#DejaVuSans-53\"/>\n       <use x=\"63.623047\" xlink:href=\"#DejaVuSans-46\"/>\n       <use x=\"95.410156\" xlink:href=\"#DejaVuSans-48\"/>\n      </g>\n     </g>\n    </g>\n    <g id=\"xtick_3\">\n     <g id=\"line2d_3\">\n      <g>\n       <use style=\"stroke:#000000;stroke-width:0.8;\" x=\"146.775852\" xlink:href=\"#m085f7673c8\" y=\"226.791946\"/>\n      </g>\n     </g>\n     <g id=\"text_3\">\n      <!-- 5.5 -->\n      <g transform=\"translate(138.82429 241.390384)scale(0.1 -0.1)\">\n       <use xlink:href=\"#DejaVuSans-53\"/>\n       <use x=\"63.623047\" xlink:href=\"#DejaVuSans-46\"/>\n       <use x=\"95.410156\" xlink:href=\"#DejaVuSans-53\"/>\n      </g>\n     </g>\n    </g>\n    <g id=\"xtick_4\">\n     <g id=\"line2d_4\">\n      <g>\n       <use style=\"stroke:#000000;stroke-width:0.8;\" x=\"189.04858\" xlink:href=\"#m085f7673c8\" y=\"226.791946\"/>\n      </g>\n     </g>\n     <g id=\"text_4\">\n      <!-- 6.0 -->\n      <g transform=\"translate(181.097017 241.390384)scale(0.1 -0.1)\">\n       <defs>\n        <path d=\"M 33.015625 40.375 \nQ 26.375 40.375 22.484375 35.828125 \nQ 18.609375 31.296875 18.609375 23.390625 \nQ 18.609375 15.53125 22.484375 10.953125 \nQ 26.375 6.390625 33.015625 6.390625 \nQ 39.65625 6.390625 43.53125 10.953125 \nQ 47.40625 15.53125 47.40625 23.390625 \nQ 47.40625 31.296875 43.53125 35.828125 \nQ 39.65625 40.375 33.015625 40.375 \nz\nM 52.59375 71.296875 \nL 52.59375 62.3125 \nQ 48.875 64.0625 45.09375 64.984375 \nQ 41.3125 65.921875 37.59375 65.921875 \nQ 27.828125 65.921875 22.671875 59.328125 \nQ 17.53125 52.734375 16.796875 39.40625 \nQ 19.671875 43.65625 24.015625 45.921875 \nQ 28.375 48.1875 33.59375 48.1875 \nQ 44.578125 48.1875 50.953125 41.515625 \nQ 57.328125 34.859375 57.328125 23.390625 \nQ 57.328125 12.15625 50.6875 5.359375 \nQ 44.046875 -1.421875 33.015625 -1.421875 \nQ 20.359375 -1.421875 13.671875 8.265625 \nQ 6.984375 17.96875 6.984375 36.375 \nQ 6.984375 53.65625 15.1875 63.9375 \nQ 23.390625 74.21875 37.203125 74.21875 \nQ 40.921875 74.21875 44.703125 73.484375 \nQ 48.484375 72.75 52.59375 71.296875 \nz\n\" id=\"DejaVuSans-54\"/>\n       </defs>\n       <use xlink:href=\"#DejaVuSans-54\"/>\n       <use x=\"63.623047\" xlink:href=\"#DejaVuSans-46\"/>\n       <use x=\"95.410156\" xlink:href=\"#DejaVuSans-48\"/>\n      </g>\n     </g>\n    </g>\n    <g id=\"xtick_5\">\n     <g id=\"line2d_5\">\n      <g>\n       <use style=\"stroke:#000000;stroke-width:0.8;\" x=\"231.321307\" xlink:href=\"#m085f7673c8\" y=\"226.791946\"/>\n      </g>\n     </g>\n     <g id=\"text_5\">\n      <!-- 6.5 -->\n      <g transform=\"translate(223.369744 241.390384)scale(0.1 -0.1)\">\n       <use xlink:href=\"#DejaVuSans-54\"/>\n       <use x=\"63.623047\" xlink:href=\"#DejaVuSans-46\"/>\n       <use x=\"95.410156\" xlink:href=\"#DejaVuSans-53\"/>\n      </g>\n     </g>\n    </g>\n    <g id=\"xtick_6\">\n     <g id=\"line2d_6\">\n      <g>\n       <use style=\"stroke:#000000;stroke-width:0.8;\" x=\"273.594034\" xlink:href=\"#m085f7673c8\" y=\"226.791946\"/>\n      </g>\n     </g>\n     <g id=\"text_6\">\n      <!-- 7.0 -->\n      <g transform=\"translate(265.642472 241.390384)scale(0.1 -0.1)\">\n       <defs>\n        <path d=\"M 8.203125 72.90625 \nL 55.078125 72.90625 \nL 55.078125 68.703125 \nL 28.609375 0 \nL 18.3125 0 \nL 43.21875 64.59375 \nL 8.203125 64.59375 \nz\n\" id=\"DejaVuSans-55\"/>\n       </defs>\n       <use xlink:href=\"#DejaVuSans-55\"/>\n       <use x=\"63.623047\" xlink:href=\"#DejaVuSans-46\"/>\n       <use x=\"95.410156\" xlink:href=\"#DejaVuSans-48\"/>\n      </g>\n     </g>\n    </g>\n    <g id=\"xtick_7\">\n     <g id=\"line2d_7\">\n      <g>\n       <use style=\"stroke:#000000;stroke-width:0.8;\" x=\"315.866761\" xlink:href=\"#m085f7673c8\" y=\"226.791946\"/>\n      </g>\n     </g>\n     <g id=\"text_7\">\n      <!-- 7.5 -->\n      <g transform=\"translate(307.915199 241.390384)scale(0.1 -0.1)\">\n       <use xlink:href=\"#DejaVuSans-55\"/>\n       <use x=\"63.623047\" xlink:href=\"#DejaVuSans-46\"/>\n       <use x=\"95.410156\" xlink:href=\"#DejaVuSans-53\"/>\n      </g>\n     </g>\n    </g>\n    <g id=\"xtick_8\">\n     <g id=\"line2d_8\">\n      <g>\n       <use style=\"stroke:#000000;stroke-width:0.8;\" x=\"358.139489\" xlink:href=\"#m085f7673c8\" y=\"226.791946\"/>\n      </g>\n     </g>\n     <g id=\"text_8\">\n      <!-- 8.0 -->\n      <g transform=\"translate(350.187926 241.390384)scale(0.1 -0.1)\">\n       <defs>\n        <path d=\"M 31.78125 34.625 \nQ 24.75 34.625 20.71875 30.859375 \nQ 16.703125 27.09375 16.703125 20.515625 \nQ 16.703125 13.921875 20.71875 10.15625 \nQ 24.75 6.390625 31.78125 6.390625 \nQ 38.8125 6.390625 42.859375 10.171875 \nQ 46.921875 13.96875 46.921875 20.515625 \nQ 46.921875 27.09375 42.890625 30.859375 \nQ 38.875 34.625 31.78125 34.625 \nz\nM 21.921875 38.8125 \nQ 15.578125 40.375 12.03125 44.71875 \nQ 8.5 49.078125 8.5 55.328125 \nQ 8.5 64.0625 14.71875 69.140625 \nQ 20.953125 74.21875 31.78125 74.21875 \nQ 42.671875 74.21875 48.875 69.140625 \nQ 55.078125 64.0625 55.078125 55.328125 \nQ 55.078125 49.078125 51.53125 44.71875 \nQ 48 40.375 41.703125 38.8125 \nQ 48.828125 37.15625 52.796875 32.3125 \nQ 56.78125 27.484375 56.78125 20.515625 \nQ 56.78125 9.90625 50.3125 4.234375 \nQ 43.84375 -1.421875 31.78125 -1.421875 \nQ 19.734375 -1.421875 13.25 4.234375 \nQ 6.78125 9.90625 6.78125 20.515625 \nQ 6.78125 27.484375 10.78125 32.3125 \nQ 14.796875 37.15625 21.921875 38.8125 \nz\nM 18.3125 54.390625 \nQ 18.3125 48.734375 21.84375 45.5625 \nQ 25.390625 42.390625 31.78125 42.390625 \nQ 38.140625 42.390625 41.71875 45.5625 \nQ 45.3125 48.734375 45.3125 54.390625 \nQ 45.3125 60.0625 41.71875 63.234375 \nQ 38.140625 66.40625 31.78125 66.40625 \nQ 25.390625 66.40625 21.84375 63.234375 \nQ 18.3125 60.0625 18.3125 54.390625 \nz\n\" id=\"DejaVuSans-56\"/>\n       </defs>\n       <use xlink:href=\"#DejaVuSans-56\"/>\n       <use x=\"63.623047\" xlink:href=\"#DejaVuSans-46\"/>\n       <use x=\"95.410156\" xlink:href=\"#DejaVuSans-48\"/>\n      </g>\n     </g>\n    </g>\n   </g>\n   <g id=\"matplotlib.axis_2\">\n    <g id=\"ytick_1\">\n     <g id=\"line2d_9\">\n      <defs>\n       <path d=\"M 0 0 \nL -3.5 0 \n\" id=\"m51658832a0\" style=\"stroke:#000000;stroke-width:0.8;\"/>\n      </defs>\n      <g>\n       <use style=\"stroke:#000000;stroke-width:0.8;\" x=\"30.103125\" xlink:href=\"#m51658832a0\" y=\"216.90831\"/>\n      </g>\n     </g>\n     <g id=\"text_9\">\n      <!-- 2.0 -->\n      <g transform=\"translate(7.2 220.707528)scale(0.1 -0.1)\">\n       <defs>\n        <path d=\"M 19.1875 8.296875 \nL 53.609375 8.296875 \nL 53.609375 0 \nL 7.328125 0 \nL 7.328125 8.296875 \nQ 12.9375 14.109375 22.625 23.890625 \nQ 32.328125 33.6875 34.8125 36.53125 \nQ 39.546875 41.84375 41.421875 45.53125 \nQ 43.3125 49.21875 43.3125 52.78125 \nQ 43.3125 58.59375 39.234375 62.25 \nQ 35.15625 65.921875 28.609375 65.921875 \nQ 23.96875 65.921875 18.8125 64.3125 \nQ 13.671875 62.703125 7.8125 59.421875 \nL 7.8125 69.390625 \nQ 13.765625 71.78125 18.9375 73 \nQ 24.125 74.21875 28.421875 74.21875 \nQ 39.75 74.21875 46.484375 68.546875 \nQ 53.21875 62.890625 53.21875 53.421875 \nQ 53.21875 48.921875 51.53125 44.890625 \nQ 49.859375 40.875 45.40625 35.40625 \nQ 44.1875 33.984375 37.640625 27.21875 \nQ 31.109375 20.453125 19.1875 8.296875 \nz\n\" id=\"DejaVuSans-50\"/>\n       </defs>\n       <use xlink:href=\"#DejaVuSans-50\"/>\n       <use x=\"63.623047\" xlink:href=\"#DejaVuSans-46\"/>\n       <use x=\"95.410156\" xlink:href=\"#DejaVuSans-48\"/>\n      </g>\n     </g>\n    </g>\n    <g id=\"ytick_2\">\n     <g id=\"line2d_10\">\n      <g>\n       <use style=\"stroke:#000000;stroke-width:0.8;\" x=\"30.103125\" xlink:href=\"#m51658832a0\" y=\"175.726491\"/>\n      </g>\n     </g>\n     <g id=\"text_10\">\n      <!-- 2.5 -->\n      <g transform=\"translate(7.2 179.52571)scale(0.1 -0.1)\">\n       <use xlink:href=\"#DejaVuSans-50\"/>\n       <use x=\"63.623047\" xlink:href=\"#DejaVuSans-46\"/>\n       <use x=\"95.410156\" xlink:href=\"#DejaVuSans-53\"/>\n      </g>\n     </g>\n    </g>\n    <g id=\"ytick_3\">\n     <g id=\"line2d_11\">\n      <g>\n       <use style=\"stroke:#000000;stroke-width:0.8;\" x=\"30.103125\" xlink:href=\"#m51658832a0\" y=\"134.544673\"/>\n      </g>\n     </g>\n     <g id=\"text_11\">\n      <!-- 3.0 -->\n      <g transform=\"translate(7.2 138.343892)scale(0.1 -0.1)\">\n       <defs>\n        <path d=\"M 40.578125 39.3125 \nQ 47.65625 37.796875 51.625 33 \nQ 55.609375 28.21875 55.609375 21.1875 \nQ 55.609375 10.40625 48.1875 4.484375 \nQ 40.765625 -1.421875 27.09375 -1.421875 \nQ 22.515625 -1.421875 17.65625 -0.515625 \nQ 12.796875 0.390625 7.625 2.203125 \nL 7.625 11.71875 \nQ 11.71875 9.328125 16.59375 8.109375 \nQ 21.484375 6.890625 26.8125 6.890625 \nQ 36.078125 6.890625 40.9375 10.546875 \nQ 45.796875 14.203125 45.796875 21.1875 \nQ 45.796875 27.640625 41.28125 31.265625 \nQ 36.765625 34.90625 28.71875 34.90625 \nL 20.21875 34.90625 \nL 20.21875 43.015625 \nL 29.109375 43.015625 \nQ 36.375 43.015625 40.234375 45.921875 \nQ 44.09375 48.828125 44.09375 54.296875 \nQ 44.09375 59.90625 40.109375 62.90625 \nQ 36.140625 65.921875 28.71875 65.921875 \nQ 24.65625 65.921875 20.015625 65.03125 \nQ 15.375 64.15625 9.8125 62.3125 \nL 9.8125 71.09375 \nQ 15.4375 72.65625 20.34375 73.4375 \nQ 25.25 74.21875 29.59375 74.21875 \nQ 40.828125 74.21875 47.359375 69.109375 \nQ 53.90625 64.015625 53.90625 55.328125 \nQ 53.90625 49.265625 50.4375 45.09375 \nQ 46.96875 40.921875 40.578125 39.3125 \nz\n\" id=\"DejaVuSans-51\"/>\n       </defs>\n       <use xlink:href=\"#DejaVuSans-51\"/>\n       <use x=\"63.623047\" xlink:href=\"#DejaVuSans-46\"/>\n       <use x=\"95.410156\" xlink:href=\"#DejaVuSans-48\"/>\n      </g>\n     </g>\n    </g>\n    <g id=\"ytick_4\">\n     <g id=\"line2d_12\">\n      <g>\n       <use style=\"stroke:#000000;stroke-width:0.8;\" x=\"30.103125\" xlink:href=\"#m51658832a0\" y=\"93.362855\"/>\n      </g>\n     </g>\n     <g id=\"text_12\">\n      <!-- 3.5 -->\n      <g transform=\"translate(7.2 97.162074)scale(0.1 -0.1)\">\n       <use xlink:href=\"#DejaVuSans-51\"/>\n       <use x=\"63.623047\" xlink:href=\"#DejaVuSans-46\"/>\n       <use x=\"95.410156\" xlink:href=\"#DejaVuSans-53\"/>\n      </g>\n     </g>\n    </g>\n    <g id=\"ytick_5\">\n     <g id=\"line2d_13\">\n      <g>\n       <use style=\"stroke:#000000;stroke-width:0.8;\" x=\"30.103125\" xlink:href=\"#m51658832a0\" y=\"52.181037\"/>\n      </g>\n     </g>\n     <g id=\"text_13\">\n      <!-- 4.0 -->\n      <g transform=\"translate(7.2 55.980256)scale(0.1 -0.1)\">\n       <use xlink:href=\"#DejaVuSans-52\"/>\n       <use x=\"63.623047\" xlink:href=\"#DejaVuSans-46\"/>\n       <use x=\"95.410156\" xlink:href=\"#DejaVuSans-48\"/>\n      </g>\n     </g>\n    </g>\n    <g id=\"ytick_6\">\n     <g id=\"line2d_14\">\n      <g>\n       <use style=\"stroke:#000000;stroke-width:0.8;\" x=\"30.103125\" xlink:href=\"#m51658832a0\" y=\"10.999219\"/>\n      </g>\n     </g>\n     <g id=\"text_14\">\n      <!-- 4.5 -->\n      <g transform=\"translate(7.2 14.798437)scale(0.1 -0.1)\">\n       <use xlink:href=\"#DejaVuSans-52\"/>\n       <use x=\"63.623047\" xlink:href=\"#DejaVuSans-46\"/>\n       <use x=\"95.410156\" xlink:href=\"#DejaVuSans-53\"/>\n      </g>\n     </g>\n    </g>\n   </g>\n   <g id=\"patch_3\">\n    <path d=\"M 30.103125 226.791946 \nL 30.103125 9.351946 \n\" style=\"fill:none;stroke:#000000;stroke-linecap:square;stroke-linejoin:miter;stroke-width:0.8;\"/>\n   </g>\n   <g id=\"patch_4\">\n    <path d=\"M 364.903125 226.791946 \nL 364.903125 9.351946 \n\" style=\"fill:none;stroke:#000000;stroke-linecap:square;stroke-linejoin:miter;stroke-width:0.8;\"/>\n   </g>\n   <g id=\"patch_5\">\n    <path d=\"M 30.103125 226.791946 \nL 364.903125 226.791946 \n\" style=\"fill:none;stroke:#000000;stroke-linecap:square;stroke-linejoin:miter;stroke-width:0.8;\"/>\n   </g>\n   <g id=\"patch_6\">\n    <path d=\"M 30.103125 9.351946 \nL 364.903125 9.351946 \n\" style=\"fill:none;stroke:#000000;stroke-linecap:square;stroke-linejoin:miter;stroke-width:0.8;\"/>\n   </g>\n  </g>\n </g>\n <defs>\n  <clipPath id=\"p544336114a\">\n   <rect height=\"217.44\" width=\"334.8\" x=\"30.103125\" y=\"9.351946\"/>\n  </clipPath>\n </defs>\n</svg>\n",
      "image/png": "[encoded data removed]"
     },
     "metadata": {
      "needs_background": "light"
     }
    }
   ],
   "source": [
    "# 試しにプロット\n",
    "plt.scatter(iris.data[:50, 0], iris.data[:50, 1], color='red', label='setosa')\n",
    "plt.scatter(iris.data[50:100, 0], iris.data[50:100, 1], color='green', label='versicolor')\n",
    "plt.scatter(iris.data[100:150, 0], iris.data[100:150, 1], color='blue', label='virginica')\n",
    "plt.show()"
   ]
  },
  {
   "cell_type": "code",
   "execution_count": 6,
   "metadata": {},
   "outputs": [],
   "source": [
    "X = iris.data\n",
    "y = iris.target"
   ]
  },
  {
   "cell_type": "code",
   "execution_count": 7,
   "metadata": {},
   "outputs": [],
   "source": [
    "n_train = len(X)//2\n",
    "X_train, X_test, y_train, y_test = X[:n_train], X[n_train:], y[:n_train], y[n_train:]"
   ]
  },
  {
   "cell_type": "code",
   "execution_count": 8,
   "metadata": {},
   "outputs": [],
   "source": [
    "from sklearn import svm"
   ]
  },
  {
   "cell_type": "code",
   "execution_count": 9,
   "metadata": {},
   "outputs": [
    {
     "output_type": "execute_result",
     "data": {
      "text/plain": "SVC()"
     },
     "metadata": {},
     "execution_count": 9
    }
   ],
   "source": [
    "clf = svm.SVC()\n",
    "clf.fit(X_train, y_train)"
   ]
  },
  {
   "cell_type": "code",
   "execution_count": 10,
   "metadata": {},
   "outputs": [
    {
     "output_type": "execute_result",
     "data": {
      "text/plain": "0.3333333333333333"
     },
     "metadata": {},
     "execution_count": 10
    }
   ],
   "source": [
    "# 結果が良くない\n",
    "clf.score(X_test, y_test)"
   ]
  },
  {
   "cell_type": "code",
   "execution_count": 11,
   "metadata": {},
   "outputs": [],
   "source": [
    "# データをシャッフルする\n",
    "from sklearn.model_selection import ShuffleSplit\n",
    "ss = ShuffleSplit(train_size=0.6, test_size=0.4, random_state=0)"
   ]
  },
  {
   "cell_type": "code",
   "execution_count": 12,
   "metadata": {},
   "outputs": [],
   "source": [
    "train_index, test_index = next(ss.split(X))\n",
    "X_train, y_train, X_test, y_test = X[train_index], y[train_index], X[test_index], y[test_index]"
   ]
  },
  {
   "cell_type": "code",
   "execution_count": 13,
   "metadata": {},
   "outputs": [
    {
     "output_type": "execute_result",
     "data": {
      "text/plain": "SVC(gamma=0.05)"
     },
     "metadata": {},
     "execution_count": 13
    }
   ],
   "source": [
    "clf = svm.SVC(gamma=0.05)\n",
    "clf.fit(X_train, y_train)"
   ]
  },
  {
   "cell_type": "code",
   "execution_count": 14,
   "metadata": {},
   "outputs": [
    {
     "output_type": "execute_result",
     "data": {
      "text/plain": "0.9"
     },
     "metadata": {},
     "execution_count": 14
    }
   ],
   "source": [
    "# よくなった\n",
    "clf.score(X_test, y_test)"
   ]
  },
  {
   "cell_type": "code",
   "execution_count": 37,
   "metadata": {},
   "outputs": [
    {
     "output_type": "execute_result",
     "data": {
      "text/plain": "0.9166666666666666"
     },
     "metadata": {},
     "execution_count": 37
    }
   ],
   "source": [
    "# 学習器を変更\n",
    "from sklearn import linear_model\n",
    "clf = linear_model.LogisticRegression()\n",
    "clf.fit(X_train, y_train)\n",
    "clf.score(X_test, y_test)"
   ]
  },
  {
   "cell_type": "code",
   "execution_count": 15,
   "metadata": {},
   "outputs": [],
   "source": [
    "# 交差検証\n",
    "from sklearn.model_selection import cross_val_score"
   ]
  },
  {
   "cell_type": "code",
   "execution_count": 17,
   "metadata": {},
   "outputs": [],
   "source": [
    "scores = cross_val_score(clf, iris.data, iris.target)"
   ]
  },
  {
   "cell_type": "code",
   "execution_count": 18,
   "metadata": {
    "tags": []
   },
   "outputs": [
    {
     "output_type": "stream",
     "name": "stdout",
     "text": "cross validation scores: [0.96666667 0.96666667 0.96666667 0.96666667 1.        ]\n"
    }
   ],
   "source": [
    "print(\"cross validation scores: {}\".format(scores))"
   ]
  },
  {
   "cell_type": "code",
   "execution_count": 20,
   "metadata": {},
   "outputs": [
    {
     "output_type": "execute_result",
     "data": {
      "text/plain": "0.9733333333333334"
     },
     "metadata": {},
     "execution_count": 20
    }
   ],
   "source": [
    "import numpy as np\n",
    "np.mean(scores)"
   ]
  },
  {
   "cell_type": "code",
   "execution_count": 22,
   "metadata": {
    "tags": []
   },
   "outputs": [
    {
     "output_type": "stream",
     "name": "stdout",
     "text": "cross validation scores: [0.96 0.98 0.94]\n"
    }
   ],
   "source": [
    "# 層化 k 分割交差検証\n",
    "from sklearn.model_selection import KFold, StratifiedKFold\n",
    "skfold = StratifiedKFold(n_splits=3)\n",
    "print(\"cross validation scores: {}\".format(cross_val_score(clf, iris.data, iris.target, cv=skfold)))"
   ]
  },
  {
   "cell_type": "code",
   "execution_count": 23,
   "metadata": {},
   "outputs": [],
   "source": [
    "# グリッドサーチ\n",
    "# https://qiita.com/tomov3/items/039d4271ed30490edf7b\n",
    "from sklearn.model_selection import GridSearchCV\n",
    "param_grid = {\"C\": [0.001, 0.01, 0.1, 1, 10, 100], \n",
    "                \"gamma\": [0.001, 0.01, 0.1, 1, 10, 100]}\n",
    "gs = GridSearchCV(svm.SVC(), param_grid, cv=5)"
   ]
  },
  {
   "cell_type": "code",
   "execution_count": 24,
   "metadata": {},
   "outputs": [
    {
     "output_type": "execute_result",
     "data": {
      "text/plain": "GridSearchCV(cv=5, estimator=SVC(),\n             param_grid={'C': [0.001, 0.01, 0.1, 1, 10, 100],\n                         'gamma': [0.001, 0.01, 0.1, 1, 10, 100]})"
     },
     "metadata": {},
     "execution_count": 24
    }
   ],
   "source": [
    "gs.fit(X_train, y_train)"
   ]
  },
  {
   "cell_type": "code",
   "execution_count": 25,
   "metadata": {},
   "outputs": [
    {
     "output_type": "execute_result",
     "data": {
      "text/plain": "0.9166666666666666"
     },
     "metadata": {},
     "execution_count": 25
    }
   ],
   "source": [
    "gs.score(X_test, y_test)"
   ]
  },
  {
   "cell_type": "code",
   "execution_count": 26,
   "metadata": {},
   "outputs": [
    {
     "output_type": "execute_result",
     "data": {
      "text/plain": "{'C': 10, 'gamma': 0.1}"
     },
     "metadata": {},
     "execution_count": 26
    }
   ],
   "source": [
    "gs.best_params_"
   ]
  },
  {
   "cell_type": "code",
   "execution_count": 27,
   "metadata": {},
   "outputs": [
    {
     "output_type": "execute_result",
     "data": {
      "text/plain": "0.9888888888888889"
     },
     "metadata": {},
     "execution_count": 27
    }
   ],
   "source": [
    "gs.best_score_"
   ]
  },
  {
   "cell_type": "code",
   "execution_count": null,
   "metadata": {},
   "outputs": [],
   "source": []
  }
 ],
 "metadata": {
  "language_info": {
   "codemirror_mode": {
    "name": "ipython",
    "version": 3
   },
   "file_extension": ".py",
   "mimetype": "text/x-python",
   "name": "python",
   "nbconvert_exporter": "python",
   "pygments_lexer": "ipython3",
   "version": "3.8.1-final"
  },
  "orig_nbformat": 2,
  "kernelspec": {
   "name": "python_defaultSpec_1598941555063",
   "display_name": "Python 3.8.1 64-bit ('venv': venv)"
  }
 },
 "nbformat": 4,
 "nbformat_minor": 2
}